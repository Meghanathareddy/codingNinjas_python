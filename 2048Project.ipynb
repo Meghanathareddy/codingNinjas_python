{
 "cells": [
  {
   "cell_type": "code",
   "execution_count": 1,
   "metadata": {},
   "outputs": [],
   "source": [
    "import random\n",
    "\n",
    "def start_game():\n",
    "    mat = []\n",
    "    for i in range(4):\n",
    "        mat.append([0]*4)\n",
    "    return mat\n",
    "\n",
    "def add_new_2(mat):\n",
    "    r = random.randint(0, 3)\n",
    "    c = random.randint(0, 3)\n",
    "    while (mat[r][c] != 0):\n",
    "        r = random.randint(0, 3)\n",
    "        c = random.randint(0, 3)\n",
    "    mat[r][c] = 2\n",
    "\n",
    "def reverse(mat):\n",
    "    new_mat = []\n",
    "    for i in range(4):\n",
    "        new_mat.append([])\n",
    "        for j in range(4):\n",
    "            new_mat[i].append(mat[i][4-j-1])\n",
    "    return new_mat\n",
    "\n",
    "def compress(mat):\n",
    "    changed = False\n",
    "    new_mat = []\n",
    "    for i in range(4):\n",
    "        new_mat.append([0]*4)\n",
    "\n",
    "    for i in range(4):\n",
    "        pos = 0\n",
    "        for j in range(4):\n",
    "            if mat[i][j] != 0:\n",
    "                new_mat[i][pos] = mat[i][j]\n",
    "                if j != pos:\n",
    "                    changed = True\n",
    "                pos += 1\n",
    "\n",
    "    return new_mat, changed\n",
    "\n",
    "def move_up(grid):\n",
    "    transposed_grid = transpose(grid)\n",
    "    new_grid, changed1 = compress(transposed_grid)\n",
    "    new_grid, changed2 = merge(new_grid)\n",
    "    changed = changed1 or changed2\n",
    "    new_grid = compress(new_grid)\n",
    "    final_grid = transpose(new_grid)\n",
    "    return final_grid, changed\n",
    "\n",
    "def move_down(grid):\n",
    "    transposed_grid = transpose(grid)\n",
    "    reversed_grid = reverse(transposed_grid)\n",
    "    new_grid, changed1 = compress(reversed_grid)\n",
    "    new_grid, changed2 = merge(new_grid)\n",
    "    changed = changed1 or changed2\n",
    "    new_grid = compress(new_grid)\n",
    "    final_reversed_grid = reverse(new_grid)\n",
    "    final_grid = transpose(final_reversed_grid)\n",
    "    return final_grid, changed\n",
    "\n",
    "def move_right(grid):\n",
    "    reversed_grid = reverse(grid)\n",
    "    new_grid, changed1 = compress(reversed_grid)\n",
    "    new_grid, changed2 = merge(new_grid)\n",
    "    changed = changed1 or changed2\n",
    "    new_grid = compress(new_grid)\n",
    "    final_grid = reverse(new_grid)\n",
    "    return final_grid, changed\n",
    "\n",
    "\n",
    "def move_left(grid):\n",
    "    new_grid, changed1 = compress(grid)\n",
    "    new_grid, changed2 = merge(new_grid)\n",
    "    changed = changed1 or changed2\n",
    "    new_grid, temp = compress(new_grid)\n",
    "    return new_grid, changed\n",
    "\n",
    "def transpose(mat):\n",
    "\n",
    "    new_mat = []\n",
    "    for i in range(4):\n",
    "        new_mat.append([])\n",
    "        for j in range(4):\n",
    "            new_mat[i].append(mat[j][i])\n",
    "    return new_mat\n",
    "\n",
    "def merge(mat):\n",
    "    changed = False\n",
    "    for i in range(4):\n",
    "        for j in range(3):\n",
    "            if mat[i][j] == mat[i][j+1] and mat[i][j] != 0:\n",
    "                mat[i][j] = mat[i][j] *2\n",
    "                mat[i][j+1] = 0\n",
    "                changed = True\n",
    "    return mat,changed\n",
    "    \n",
    "def get_current_state(mat):\n",
    "    #Anywhere 2048 is present\n",
    "    for i in range(4):\n",
    "        for j in range(4):\n",
    "            if(mat[i][j] == 2048):\n",
    "                return 'WON'\n",
    "    \n",
    "    #AnyWhere 0 is present\n",
    "    for i in range(4):\n",
    "        for j in range(4):\n",
    "            if(mat[i][j] == 0):\n",
    "                return 'GAME NOT OVER'\n",
    "    \n",
    "    #EVERY ROW AND COLUMN EXCEPT LAST ROW AND LAST COLUMN\n",
    "    for i in range(3):\n",
    "        for j in range(3):\n",
    "            if(mat[i][j] == mat[i+1][j] or mat[i][j] == mat[i][j+1]):\n",
    "                return 'GAME NOT OVER'\n",
    "    \n",
    "    #LAST ROW\n",
    "    for i in range(3):\n",
    "        if(mat[3][j] == mat[3][j+1]):\n",
    "                return 'GAME NOT OVER'\n",
    "    \n",
    "    #LAST COLUMN\n",
    "    for i in range(3):\n",
    "        if(mat[i][3] == mat[i+1][3]):\n",
    "                return 'GAME NOT OVER'\n",
    "    \n",
    "    return 'LOST'\n"
   ]
  },
  {
   "cell_type": "code",
   "execution_count": null,
   "metadata": {},
   "outputs": [],
   "source": []
  },
  {
   "cell_type": "code",
   "execution_count": 2,
   "metadata": {},
   "outputs": [
    {
     "name": "stdout",
     "output_type": "stream",
     "text": [
      "[[0, 0, 0, 0], [0, 0, 0, 0], [0, 0, 0, 0], [0, 0, 0, 0]]\n"
     ]
    }
   ],
   "source": [
    "mat = start_game()\n",
    "print(mat)\n"
   ]
  },
  {
   "cell_type": "code",
   "execution_count": 3,
   "metadata": {},
   "outputs": [
    {
     "name": "stdout",
     "output_type": "stream",
     "text": [
      "[[0, 0, 0, 2], [0, 0, 0, 0], [0, 0, 0, 0], [0, 0, 0, 0]]\n"
     ]
    }
   ],
   "source": [
    "add_new_2(mat)\n",
    "print(mat)"
   ]
  },
  {
   "cell_type": "code",
   "execution_count": 4,
   "metadata": {},
   "outputs": [
    {
     "name": "stdout",
     "output_type": "stream",
     "text": [
      "[[0, 0, 0, 2], [0, 0, 0, 0], [0, 0, 0, 0], [0, 0, 0, 2]]\n"
     ]
    }
   ],
   "source": [
    "add_new_2(mat)\n",
    "print(mat)"
   ]
  },
  {
   "cell_type": "code",
   "execution_count": 5,
   "metadata": {},
   "outputs": [
    {
     "ename": "TypeError",
     "evalue": "'bool' object is not subscriptable",
     "output_type": "error",
     "traceback": [
      "\u001b[0;31m---------------------------------------------------------------------------\u001b[0m",
      "\u001b[0;31mTypeError\u001b[0m                                 Traceback (most recent call last)",
      "Cell \u001b[0;32mIn [5], line 1\u001b[0m\n\u001b[0;32m----> 1\u001b[0m mat \u001b[38;5;241m=\u001b[39m \u001b[43mmove_up\u001b[49m\u001b[43m(\u001b[49m\u001b[43mmat\u001b[49m\u001b[43m)\u001b[49m\n\u001b[1;32m      2\u001b[0m \u001b[38;5;28mprint\u001b[39m(mat)\n",
      "Cell \u001b[0;32mIn [1], line 48\u001b[0m, in \u001b[0;36mmove_up\u001b[0;34m(grid)\u001b[0m\n\u001b[1;32m     46\u001b[0m changed \u001b[38;5;241m=\u001b[39m changed1 \u001b[38;5;129;01mor\u001b[39;00m changed2\n\u001b[1;32m     47\u001b[0m new_grid \u001b[38;5;241m=\u001b[39m compress(new_grid)\n\u001b[0;32m---> 48\u001b[0m final_grid \u001b[38;5;241m=\u001b[39m \u001b[43mtranspose\u001b[49m\u001b[43m(\u001b[49m\u001b[43mnew_grid\u001b[49m\u001b[43m)\u001b[49m\n\u001b[1;32m     49\u001b[0m \u001b[38;5;28;01mreturn\u001b[39;00m final_grid, changed\n",
      "Cell \u001b[0;32mIn [1], line 85\u001b[0m, in \u001b[0;36mtranspose\u001b[0;34m(mat)\u001b[0m\n\u001b[1;32m     83\u001b[0m     new_mat\u001b[38;5;241m.\u001b[39mappend([])\n\u001b[1;32m     84\u001b[0m     \u001b[38;5;28;01mfor\u001b[39;00m j \u001b[38;5;129;01min\u001b[39;00m \u001b[38;5;28mrange\u001b[39m(\u001b[38;5;241m4\u001b[39m):\n\u001b[0;32m---> 85\u001b[0m         new_mat[i]\u001b[38;5;241m.\u001b[39mappend(\u001b[43mmat\u001b[49m\u001b[43m[\u001b[49m\u001b[43mj\u001b[49m\u001b[43m]\u001b[49m\u001b[43m[\u001b[49m\u001b[43mi\u001b[49m\u001b[43m]\u001b[49m)\n\u001b[1;32m     86\u001b[0m \u001b[38;5;28;01mreturn\u001b[39;00m new_mat\n",
      "\u001b[0;31mTypeError\u001b[0m: 'bool' object is not subscriptable"
     ]
    }
   ],
   "source": [
    "mat = move_up(mat)\n",
    "print(mat)"
   ]
  },
  {
   "cell_type": "code",
   "execution_count": 7,
   "metadata": {},
   "outputs": [
    {
     "ename": "TypeError",
     "evalue": "'NoneType' object is not subscriptable",
     "output_type": "error",
     "traceback": [
      "\u001b[0;31m---------------------------------------------------------------------------\u001b[0m",
      "\u001b[0;31mTypeError\u001b[0m                                 Traceback (most recent call last)",
      "Cell \u001b[0;32mIn [7], line 1\u001b[0m\n\u001b[0;32m----> 1\u001b[0m mat \u001b[38;5;241m=\u001b[39m \u001b[43mmove_down\u001b[49m\u001b[43m(\u001b[49m\u001b[43mmat\u001b[49m\u001b[43m)\u001b[49m\n\u001b[1;32m      2\u001b[0m \u001b[38;5;28mprint\u001b[39m(mat)\n",
      "Cell \u001b[0;32mIn [1], line 52\u001b[0m, in \u001b[0;36mmove_down\u001b[0;34m(grid)\u001b[0m\n\u001b[1;32m     50\u001b[0m new_grid \u001b[38;5;241m=\u001b[39m compress(reversed_grid)\n\u001b[1;32m     51\u001b[0m new_grid \u001b[38;5;241m=\u001b[39m merge(new_grid)\n\u001b[0;32m---> 52\u001b[0m new_grid \u001b[38;5;241m=\u001b[39m \u001b[43mcompress\u001b[49m\u001b[43m(\u001b[49m\u001b[43mnew_grid\u001b[49m\u001b[43m)\u001b[49m\n\u001b[1;32m     53\u001b[0m final_reversed_grid \u001b[38;5;241m=\u001b[39m reverse(new_grid)\n\u001b[1;32m     54\u001b[0m final_grid \u001b[38;5;241m=\u001b[39m transpose(final_reversed_grid)\n",
      "Cell \u001b[0;32mIn [1], line 33\u001b[0m, in \u001b[0;36mcompress\u001b[0;34m(mat)\u001b[0m\n\u001b[1;32m     31\u001b[0m pos \u001b[38;5;241m=\u001b[39m \u001b[38;5;241m0\u001b[39m\n\u001b[1;32m     32\u001b[0m \u001b[38;5;28;01mfor\u001b[39;00m j \u001b[38;5;129;01min\u001b[39;00m \u001b[38;5;28mrange\u001b[39m(\u001b[38;5;241m4\u001b[39m):\n\u001b[0;32m---> 33\u001b[0m     \u001b[38;5;28;01mif\u001b[39;00m \u001b[43mmat\u001b[49m\u001b[43m[\u001b[49m\u001b[43mi\u001b[49m\u001b[43m]\u001b[49m[j] \u001b[38;5;241m!=\u001b[39m \u001b[38;5;241m0\u001b[39m:\n\u001b[1;32m     34\u001b[0m         new_mat[i][pos] \u001b[38;5;241m=\u001b[39m mat[i][j]\n\u001b[1;32m     35\u001b[0m         pos \u001b[38;5;241m+\u001b[39m\u001b[38;5;241m=\u001b[39m \u001b[38;5;241m1\u001b[39m\n",
      "\u001b[0;31mTypeError\u001b[0m: 'NoneType' object is not subscriptable"
     ]
    }
   ],
   "source": [
    "mat = move_down(mat)\n",
    "print(mat)"
   ]
  },
  {
   "cell_type": "code",
   "execution_count": 15,
   "metadata": {},
   "outputs": [],
   "source": []
  },
  {
   "cell_type": "code",
   "execution_count": 16,
   "metadata": {},
   "outputs": [
    {
     "data": {
      "text/plain": [
       "4"
      ]
     },
     "execution_count": 16,
     "metadata": {},
     "output_type": "execute_result"
    }
   ],
   "source": []
  },
  {
   "cell_type": "code",
   "execution_count": 18,
   "metadata": {},
   "outputs": [
    {
     "name": "stdout",
     "output_type": "stream",
     "text": [
      "2\n"
     ]
    }
   ],
   "source": [
    "\n",
    "\n",
    "\n"
   ]
  },
  {
   "cell_type": "code",
   "execution_count": 20,
   "metadata": {},
   "outputs": [
    {
     "name": "stdout",
     "output_type": "stream",
     "text": [
      "2.5\n"
     ]
    }
   ],
   "source": []
  },
  {
   "cell_type": "code",
   "execution_count": null,
   "metadata": {},
   "outputs": [],
   "source": []
  }
 ],
 "metadata": {
  "interpreter": {
   "hash": "aee8b7b246df8f9039afb4144a1f6fd8d2ca17a180786b69acc140d282b71a49"
  },
  "kernelspec": {
   "display_name": "Python 3.10.1 64-bit",
   "language": "python",
   "name": "python3"
  },
  "language_info": {
   "codemirror_mode": {
    "name": "ipython",
    "version": 3
   },
   "file_extension": ".py",
   "mimetype": "text/x-python",
   "name": "python",
   "nbconvert_exporter": "python",
   "pygments_lexer": "ipython3",
   "version": "3.10.1"
  },
  "orig_nbformat": 4
 },
 "nbformat": 4,
 "nbformat_minor": 2
}
