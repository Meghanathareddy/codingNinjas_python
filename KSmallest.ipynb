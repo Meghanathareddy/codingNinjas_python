{
 "cells": [
  {
   "cell_type": "code",
   "execution_count": 2,
   "metadata": {},
   "outputs": [
    {
     "name": "stdout",
     "output_type": "stream",
     "text": [
      "6 2 3 1 "
     ]
    }
   ],
   "source": [
    "import heapq\n",
    "\n",
    "def kSmallest(arr, k):\n",
    "\n",
    "    heap = arr[:k]\n",
    "    heapq._heapify_max(heap)\n",
    "    n = len(arr)\n",
    "    for i in range(k, n):\n",
    "        if heap[0] > arr[i]:\n",
    "            heapq._heapreplace_max(heap, arr[i])\n",
    "    return heap\n",
    "\n",
    "arr = [10,6,7,2,3,8,9,11,1]\n",
    "k = 4\n",
    "elements = kSmallest(arr,4)\n",
    "for ele  in elements:\n",
    "    print(ele, end = \" \")"
   ]
  },
  {
   "cell_type": "code",
   "execution_count": 6,
   "metadata": {},
   "outputs": [
    {
     "name": "stdout",
     "output_type": "stream",
     "text": [
      "6 2 3 1 "
     ]
    }
   ],
   "source": [
    "import heapq\n",
    "\n",
    "def kSmallest(arr, k):\n",
    "\n",
    "    heap = arr[:k]\n",
    "    heapq._heapify_max(heap)\n",
    "    n = len(arr)\n",
    "    for i in range(k, n):\n",
    "        if heap[0] > arr[i]:\n",
    "            heapq._heapreplace_max(heap, arr[i])\n",
    "    return heap\n",
    "\n",
    "arr = [10,6,7,2,3,8,9,11,1]\n",
    "k = 4\n",
    "elements = kSmallest(arr,4)\n",
    "for ele  in elements:\n",
    "    print(ele, end = \" \")"
   ]
  },
  {
   "cell_type": "code",
   "execution_count": 17,
   "metadata": {},
   "outputs": [
    {
     "name": "stdout",
     "output_type": "stream",
     "text": [
      "10 11 20 13 10\n"
     ]
    }
   ],
   "source": [
    "import heapq\n",
    "def kthLargest(lst, k):\n",
    "    heap = lst[:k]\n",
    "    heapq.heapify(heap)\n",
    "    n = len(lst)\n",
    "    for i in range(k, n):\n",
    "        if heap[0] < lst[i]:\n",
    "            heapq.heapreplace(heap, lst[i])\n",
    "    return heap\n",
    "arr = [2,6,10,11,13,4,1,20]\n",
    "k = 4\n",
    "elements = kthLargest(arr,4)\n",
    "for ele in elements:\n",
    "    print(ele, end = \" \")\n",
    "print(elements[0])"
   ]
  },
  {
   "cell_type": "code",
   "execution_count": null,
   "metadata": {},
   "outputs": [],
   "source": []
  }
 ],
 "metadata": {
  "interpreter": {
   "hash": "aee8b7b246df8f9039afb4144a1f6fd8d2ca17a180786b69acc140d282b71a49"
  },
  "kernelspec": {
   "display_name": "Python 3.10.1 64-bit",
   "language": "python",
   "name": "python3"
  },
  "language_info": {
   "codemirror_mode": {
    "name": "ipython",
    "version": 3
   },
   "file_extension": ".py",
   "mimetype": "text/x-python",
   "name": "python",
   "nbconvert_exporter": "python",
   "pygments_lexer": "ipython3",
   "version": "3.10.1"
  },
  "orig_nbformat": 4
 },
 "nbformat": 4,
 "nbformat_minor": 2
}
