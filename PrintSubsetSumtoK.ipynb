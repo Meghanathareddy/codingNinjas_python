{
 "cells": [
  {
   "cell_type": "code",
   "execution_count": 4,
   "metadata": {},
   "outputs": [],
   "source": [
    "def printSubsetSumToK(nums, k, subsets ,i):\n",
    "    \n",
    "    if sum(subsets) == k:\n",
    "        print(*subsets)\n",
    "    \n",
    "    if i == len(nums):\n",
    "        return\n",
    "    \n",
    "    printSubsetSumToK(nums, k, subsets ,i+1)\n",
    "\n",
    "    subsets.append(nums[i])\n",
    "    printSubsetSumToK(nums, k, subsets ,i+1)"
   ]
  },
  {
   "cell_type": "code",
   "execution_count": 5,
   "metadata": {},
   "outputs": [],
   "source": [
    "printSubsetSumToK([1,2,3,4,5], 7,[],0)"
   ]
  },
  {
   "cell_type": "code",
   "execution_count": 3,
   "metadata": {},
   "outputs": [],
   "source": [
    "def sum(subsets):\n",
    "    sum = 0\n",
    "    for num in subsets:\n",
    "        sum += num\n",
    "    return sum"
   ]
  },
  {
   "cell_type": "code",
   "execution_count": 6,
   "metadata": {},
   "outputs": [],
   "source": [
    "def sum(subsets):\n",
    "    sum = 0\n",
    "    for num in subsets:\n",
    "        sum += num\n",
    "    return sum\n",
    "\n",
    "def printSubsetSumToK(nums, k, subsets ,i):\n",
    "    \n",
    "    if sum(subsets) == k:\n",
    "        print(*subsets)\n",
    "    \n",
    "    if i == len(nums):\n",
    "        return\n",
    "    \n",
    "    printSubsetSumToK(nums, k, subsets ,i+1)\n",
    "\n",
    "    subsets.append(nums[i])\n",
    "    printSubsetSumToK(nums, k, subsets ,i+1)\n",
    "\n",
    "n = int(input())\n",
    "arr = [int(ele) for ele in input().split()]\n",
    "k = int(input())\n",
    "printSubsetSumToK(arr, k,[],0)"
   ]
  },
  {
   "cell_type": "code",
   "execution_count": 7,
   "metadata": {},
   "outputs": [
    {
     "data": {
      "text/plain": [
       "[1, 2]"
      ]
     },
     "execution_count": 7,
     "metadata": {},
     "output_type": "execute_result"
    }
   ],
   "source": [
    "arr = [1,2,3]\n",
    "arr[:-1]"
   ]
  },
  {
   "cell_type": "code",
   "execution_count": 8,
   "metadata": {},
   "outputs": [],
   "source": [
    "def recursion(arr,k,i):\n",
    "    #sum is zero means we have found a subset\n",
    "    if k == 0:\n",
    "        return True\n",
    "    \n",
    "    #At this end of the arr if the sum > 0 then\n",
    "    #this subset sum does not equal to sum\n",
    "\n",
    "    if i == len(arr):\n",
    "        return False\n",
    "    \n",
    "    #In this the current arr element is greater than return the sum k , only consider excluding the element\n",
    "    if arr[i] > k:\n",
    "        return recursion(arr,k,i+1)\n",
    "    \n",
    "    #To generate all subsets we have to include and exclude the element at each index\n",
    "    else:\n",
    "        return recursion(arr,k-arr[i],i+1) or recursion(arr,k,i+1)\n",
    "\n",
    "\n"
   ]
  },
  {
   "cell_type": "code",
   "execution_count": 9,
   "metadata": {},
   "outputs": [
    {
     "data": {
      "text/plain": [
       "True"
      ]
     },
     "execution_count": 9,
     "metadata": {},
     "output_type": "execute_result"
    }
   ],
   "source": [
    "recursion([1,2,3,4,5],7,0)"
   ]
  },
  {
   "cell_type": "code",
   "execution_count": 19,
   "metadata": {},
   "outputs": [],
   "source": [
    "def printSubsetSumToK(nums, k, n,overallSubsets ,subsets,i):\n",
    "    \n",
    "    if n == 0:\n",
    "        if k == 0:\n",
    "            overallSubsets.append(subsets)\n",
    "        return\n",
    "\n",
    "    \n",
    "   \n",
    "    \n",
    "    printSubsetSumToK(nums, k, n-1,overallSubsets,subsets ,i+1)\n",
    "\n",
    "    subsets.append(nums[i])\n",
    "    printSubsetSumToK(nums, k-nums[i], n-1,overallSubsets,subsets ,i+1)"
   ]
  },
  {
   "cell_type": "code",
   "execution_count": 20,
   "metadata": {},
   "outputs": [],
   "source": [
    "overallSubsets = []\n",
    "ans = printSubsetSumToK([1,2,3,4,5],7,5,overallSubsets,[],0)"
   ]
  },
  {
   "cell_type": "code",
   "execution_count": 21,
   "metadata": {},
   "outputs": [
    {
     "data": {
      "text/plain": [
       "[[5,\n",
       "  4,\n",
       "  5,\n",
       "  3,\n",
       "  5,\n",
       "  4,\n",
       "  5,\n",
       "  2,\n",
       "  5,\n",
       "  4,\n",
       "  5,\n",
       "  3,\n",
       "  5,\n",
       "  4,\n",
       "  5,\n",
       "  1,\n",
       "  5,\n",
       "  4,\n",
       "  5,\n",
       "  3,\n",
       "  5,\n",
       "  4,\n",
       "  5,\n",
       "  2,\n",
       "  5,\n",
       "  4,\n",
       "  5,\n",
       "  3,\n",
       "  5,\n",
       "  4,\n",
       "  5],\n",
       " [5,\n",
       "  4,\n",
       "  5,\n",
       "  3,\n",
       "  5,\n",
       "  4,\n",
       "  5,\n",
       "  2,\n",
       "  5,\n",
       "  4,\n",
       "  5,\n",
       "  3,\n",
       "  5,\n",
       "  4,\n",
       "  5,\n",
       "  1,\n",
       "  5,\n",
       "  4,\n",
       "  5,\n",
       "  3,\n",
       "  5,\n",
       "  4,\n",
       "  5,\n",
       "  2,\n",
       "  5,\n",
       "  4,\n",
       "  5,\n",
       "  3,\n",
       "  5,\n",
       "  4,\n",
       "  5],\n",
       " [5,\n",
       "  4,\n",
       "  5,\n",
       "  3,\n",
       "  5,\n",
       "  4,\n",
       "  5,\n",
       "  2,\n",
       "  5,\n",
       "  4,\n",
       "  5,\n",
       "  3,\n",
       "  5,\n",
       "  4,\n",
       "  5,\n",
       "  1,\n",
       "  5,\n",
       "  4,\n",
       "  5,\n",
       "  3,\n",
       "  5,\n",
       "  4,\n",
       "  5,\n",
       "  2,\n",
       "  5,\n",
       "  4,\n",
       "  5,\n",
       "  3,\n",
       "  5,\n",
       "  4,\n",
       "  5]]"
      ]
     },
     "execution_count": 21,
     "metadata": {},
     "output_type": "execute_result"
    }
   ],
   "source": [
    "overallSubsets"
   ]
  },
  {
   "cell_type": "code",
   "execution_count": 22,
   "metadata": {},
   "outputs": [],
   "source": [
    "def print_subsets_sum_to_k(nums, k, subsets=[], i=0):\n",
    "    if sum(subsets) == k:\n",
    "        print(*subsets)\n",
    "    \n",
    "    if i == len(nums):\n",
    "        return\n",
    "\n",
    "    # Recursive call including the current element\n",
    "    subsets.append(nums[i])\n",
    "    print_subsets_sum_to_k(nums, k, subsets, i+1)\n",
    "    subsets.pop()\n",
    "\n",
    "    # Recursive call excluding the current element\n",
    "    print_subsets_sum_to_k(nums, k, subsets, i+1)"
   ]
  },
  {
   "cell_type": "code",
   "execution_count": 26,
   "metadata": {},
   "outputs": [
    {
     "name": "stdout",
     "output_type": "stream",
     "text": [
      "6\n",
      "6\n",
      "6\n",
      "6\n",
      "2 4\n"
     ]
    }
   ],
   "source": [
    "print_subsets_sum_to_k([17,18,6,11,2,4],6,[],0)"
   ]
  },
  {
   "cell_type": "markdown",
   "metadata": {},
   "source": []
  },
  {
   "cell_type": "code",
   "execution_count": 29,
   "metadata": {},
   "outputs": [],
   "source": [
    "def subsets_sum_to_k(nums,k, subsets = None, i = 0, printSubsets = None):\n",
    "    if subsets is None:\n",
    "        subsets = []\n",
    "    if printSubsets is None:\n",
    "        printSubsets = set()\n",
    "    if sum(subsets) == k and tuple(subsets) not in printSubsets:\n",
    "        print(*subsets)\n",
    "        printSubsets.add(tuple(subsets))\n",
    "    \n",
    "    if i == len(nums):\n",
    "        return\n",
    "    subsets.append(nums[i])\n",
    "    subsets_sum_to_k(nums,k,subsets,i+1,printSubsets)\n",
    "    subsets.pop()\n",
    "    subsets_sum_to_k(nums,k,subsets,i+1,printSubsets)    \n"
   ]
  },
  {
   "cell_type": "code",
   "execution_count": 30,
   "metadata": {},
   "outputs": [
    {
     "name": "stdout",
     "output_type": "stream",
     "text": [
      "1 2 4\n",
      "2 5\n",
      "3 4\n"
     ]
    }
   ],
   "source": [
    "subsets_sum_to_k([1,2,3,4,5],7,None,0,None)"
   ]
  },
  {
   "cell_type": "code",
   "execution_count": 31,
   "metadata": {},
   "outputs": [
    {
     "data": {
      "text/plain": [
       "[2, 1]"
      ]
     },
     "execution_count": 31,
     "metadata": {},
     "output_type": "execute_result"
    }
   ],
   "source": [
    "[2]+[1]"
   ]
  },
  {
   "cell_type": "code",
   "execution_count": 35,
   "metadata": {},
   "outputs": [
    {
     "data": {
      "text/plain": [
       "[1, 2]"
      ]
     },
     "execution_count": 35,
     "metadata": {},
     "output_type": "execute_result"
    }
   ],
   "source": [
    "a = [1,2,3]\n",
    "a[:len(a)]\n",
    "a[:len(a) - 1]"
   ]
  },
  {
   "cell_type": "code",
   "execution_count": 36,
   "metadata": {},
   "outputs": [],
   "source": [
    "a = [[]]\n",
    "a.append(a[0].copy())"
   ]
  },
  {
   "cell_type": "code",
   "execution_count": 37,
   "metadata": {},
   "outputs": [
    {
     "data": {
      "text/plain": [
       "[[], []]"
      ]
     },
     "execution_count": 37,
     "metadata": {},
     "output_type": "execute_result"
    }
   ],
   "source": [
    "a"
   ]
  },
  {
   "cell_type": "code",
   "execution_count": 38,
   "metadata": {},
   "outputs": [],
   "source": [
    "a[0].append(arr[len(arr)-1])"
   ]
  },
  {
   "cell_type": "code",
   "execution_count": 39,
   "metadata": {},
   "outputs": [
    {
     "data": {
      "text/plain": [
       "[[3], []]"
      ]
     },
     "execution_count": 39,
     "metadata": {},
     "output_type": "execute_result"
    }
   ],
   "source": [
    "a"
   ]
  },
  {
   "cell_type": "code",
   "execution_count": 46,
   "metadata": {},
   "outputs": [
    {
     "name": "stdout",
     "output_type": "stream",
     "text": [
      "4 1 \n"
     ]
    }
   ],
   "source": [
    "import sys\n",
    "\n",
    "sys.setrecursionlimit (10**6)\n",
    "\n",
    "def subsetsSumkHelper (arr, startIndex, k) : \n",
    "    if startIndex == len(arr):\n",
    "        if k == 0:\n",
    "            return [list()] \n",
    "        else:\n",
    "            return list()\n",
    "    smallOutput1= subsetsSumkHelper (arr, startIndex + 1, k) \n",
    "    smallOutput2= subsetsSumkHelper (arr, startIndex + 1, k - arr[startIndex])\n",
    "    output = (len(smallOutput1)+len (smallOutput2)) * [0]\n",
    "    index = 0\n",
    "    for i in range(len(smallOutput1)) : \n",
    "        output[index] = smallOutput1[i] \n",
    "        index += 1\n",
    "    for i in range(len(smallOutput2)) :\n",
    "        output[index] = (len(smallOutput2[i]) + 1)* [0]\n",
    "        output[index][0] = arr[startIndex]\n",
    "        for j in range(len(smallOutput2[i])):\n",
    "            output[index][j+1] = smallOutput2[i][j]\n",
    "        index += 1\n",
    "    return output\n",
    "\n",
    "def subsetsSumK(arr,k):\n",
    "    return subsetsSumkHelper(arr,0,k)\n",
    "\n",
    "def takeInput() :\n",
    "    n = int(input().strip())\n",
    "    if n == 0:\n",
    "        return list(), 0\n",
    "    arr = [int (element) for element in list(input().strip().split(\" \"))]\n",
    "    return arr, n\n",
    "\n",
    "def printListofList (liofLi) :\n",
    "    for li in liofLi :\n",
    "        for elem in li:\n",
    "            print (elem, end = \" \")\n",
    "    print()\n",
    "\n",
    "\n",
    "arr, n= takeInput()\n",
    "\n",
    "if n != 0:\n",
    "    k = int(input().strip())\n",
    "    liofLi = subsetsSumK(arr,k)\n",
    "    printListofList(liofLi)"
   ]
  },
  {
   "cell_type": "code",
   "execution_count": 43,
   "metadata": {},
   "outputs": [
    {
     "name": "stdout",
     "output_type": "stream",
     "text": [
      "4 [1]\n"
     ]
    }
   ],
   "source": [
    "def printSubset (arr, k, lst):\n",
    "    n=len(arr)\n",
    "    if n==0:\n",
    "        return\n",
    "    if n == 1:\n",
    "        if arr[0]==k:\n",
    "            print(k, lst)\n",
    "            return\n",
    "    printSubset(arr[:-1], k, lst) \n",
    "    printSubset(arr[:-1], k-arr[-1], [arr[-1]]+lst)\n",
    "    \n",
    "    if arr[-1]==k:\n",
    "        print(k, *lst)\n",
    "def printSubsetMain (arr, k): \n",
    "    printSubset (arr, k, [])\n",
    "\n",
    "n=int(input())\n",
    "arr = list (int(i) for i in input().strip().split(' '))\n",
    "k=int(input())\n",
    "printSubsetMain (arr, k)"
   ]
  },
  {
   "cell_type": "code",
   "execution_count": null,
   "metadata": {},
   "outputs": [],
   "source": []
  }
 ],
 "metadata": {
  "interpreter": {
   "hash": "aee8b7b246df8f9039afb4144a1f6fd8d2ca17a180786b69acc140d282b71a49"
  },
  "kernelspec": {
   "display_name": "Python 3.10.1 64-bit",
   "language": "python",
   "name": "python3"
  },
  "language_info": {
   "codemirror_mode": {
    "name": "ipython",
    "version": 3
   },
   "file_extension": ".py",
   "mimetype": "text/x-python",
   "name": "python",
   "nbconvert_exporter": "python",
   "pygments_lexer": "ipython3",
   "version": "3.10.1"
  },
  "orig_nbformat": 4
 },
 "nbformat": 4,
 "nbformat_minor": 2
}
