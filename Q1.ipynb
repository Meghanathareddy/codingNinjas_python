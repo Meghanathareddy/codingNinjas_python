{
 "cells": [
  {
   "cell_type": "code",
   "execution_count": 1,
   "metadata": {},
   "outputs": [
    {
     "data": {
      "text/plain": [
       "11.5"
      ]
     },
     "execution_count": 1,
     "metadata": {},
     "output_type": "execute_result"
    }
   ],
   "source": [
    "23/2"
   ]
  },
  {
   "cell_type": "code",
   "execution_count": 2,
   "metadata": {},
   "outputs": [
    {
     "data": {
      "text/plain": [
       "2.3"
      ]
     },
     "execution_count": 2,
     "metadata": {},
     "output_type": "execute_result"
    }
   ],
   "source": [
    "23/10"
   ]
  },
  {
   "cell_type": "code",
   "execution_count": 3,
   "metadata": {},
   "outputs": [
    {
     "data": {
      "text/plain": [
       "2"
      ]
     },
     "execution_count": 3,
     "metadata": {},
     "output_type": "execute_result"
    }
   ],
   "source": [
    "23//10"
   ]
  },
  {
   "cell_type": "code",
   "execution_count": 1,
   "metadata": {},
   "outputs": [
    {
     "data": {
      "text/plain": [
       "3"
      ]
     },
     "execution_count": 1,
     "metadata": {},
     "output_type": "execute_result"
    }
   ],
   "source": [
    "23%10"
   ]
  },
  {
   "cell_type": "code",
   "execution_count": 17,
   "metadata": {},
   "outputs": [
    {
     "data": {
      "text/plain": [
       "0"
      ]
     },
     "execution_count": 17,
     "metadata": {},
     "output_type": "execute_result"
    }
   ],
   "source": [
    "3//10\n"
   ]
  },
  {
   "cell_type": "code",
   "execution_count": 18,
   "metadata": {},
   "outputs": [
    {
     "data": {
      "text/plain": [
       "3"
      ]
     },
     "execution_count": 18,
     "metadata": {},
     "output_type": "execute_result"
    }
   ],
   "source": [
    "len('100')"
   ]
  },
  {
   "cell_type": "code",
   "execution_count": 12,
   "metadata": {},
   "outputs": [
    {
     "ename": "KeyboardInterrupt",
     "evalue": "Interrupted by user",
     "output_type": "error",
     "traceback": [
      "\u001b[0;31m---------------------------------------------------------------------------\u001b[0m",
      "\u001b[0;31mKeyboardInterrupt\u001b[0m                         Traceback (most recent call last)",
      "\u001b[1;32m/Users/KReddy/Documents/CONDING_NINJAS_PYTHON/Introduction_to_python/Q1.ipynb Cell 7'\u001b[0m in \u001b[0;36m<cell line: 1>\u001b[0;34m()\u001b[0m\n\u001b[0;32m----> <a href='vscode-notebook-cell:/Users/KReddy/Documents/CONDING_NINJAS_PYTHON/Introduction_to_python/Q1.ipynb#ch0000006?line=0'>1</a>\u001b[0m n \u001b[39m=\u001b[39m \u001b[39minput\u001b[39;49m()\n\u001b[1;32m      <a href='vscode-notebook-cell:/Users/KReddy/Documents/CONDING_NINJAS_PYTHON/Introduction_to_python/Q1.ipynb#ch0000006?line=1'>2</a>\u001b[0m n \u001b[39m=\u001b[39m \u001b[39mlen\u001b[39m(n)\n\u001b[1;32m      <a href='vscode-notebook-cell:/Users/KReddy/Documents/CONDING_NINJAS_PYTHON/Introduction_to_python/Q1.ipynb#ch0000006?line=2'>3</a>\u001b[0m \u001b[39mtype\u001b[39m(n)\n",
      "File \u001b[0;32m~/Library/Python/3.8/lib/python/site-packages/ipykernel/kernelbase.py:1177\u001b[0m, in \u001b[0;36mKernel.raw_input\u001b[0;34m(self, prompt)\u001b[0m\n\u001b[1;32m   <a href='file:///Users/KReddy/Library/Python/3.8/lib/python/site-packages/ipykernel/kernelbase.py?line=1172'>1173</a>\u001b[0m \u001b[39mif\u001b[39;00m \u001b[39mnot\u001b[39;00m \u001b[39mself\u001b[39m\u001b[39m.\u001b[39m_allow_stdin:\n\u001b[1;32m   <a href='file:///Users/KReddy/Library/Python/3.8/lib/python/site-packages/ipykernel/kernelbase.py?line=1173'>1174</a>\u001b[0m     \u001b[39mraise\u001b[39;00m StdinNotImplementedError(\n\u001b[1;32m   <a href='file:///Users/KReddy/Library/Python/3.8/lib/python/site-packages/ipykernel/kernelbase.py?line=1174'>1175</a>\u001b[0m         \u001b[39m\"\u001b[39m\u001b[39mraw_input was called, but this frontend does not support input requests.\u001b[39m\u001b[39m\"\u001b[39m\n\u001b[1;32m   <a href='file:///Users/KReddy/Library/Python/3.8/lib/python/site-packages/ipykernel/kernelbase.py?line=1175'>1176</a>\u001b[0m     )\n\u001b[0;32m-> <a href='file:///Users/KReddy/Library/Python/3.8/lib/python/site-packages/ipykernel/kernelbase.py?line=1176'>1177</a>\u001b[0m \u001b[39mreturn\u001b[39;00m \u001b[39mself\u001b[39;49m\u001b[39m.\u001b[39;49m_input_request(\n\u001b[1;32m   <a href='file:///Users/KReddy/Library/Python/3.8/lib/python/site-packages/ipykernel/kernelbase.py?line=1177'>1178</a>\u001b[0m     \u001b[39mstr\u001b[39;49m(prompt),\n\u001b[1;32m   <a href='file:///Users/KReddy/Library/Python/3.8/lib/python/site-packages/ipykernel/kernelbase.py?line=1178'>1179</a>\u001b[0m     \u001b[39mself\u001b[39;49m\u001b[39m.\u001b[39;49m_parent_ident[\u001b[39m\"\u001b[39;49m\u001b[39mshell\u001b[39;49m\u001b[39m\"\u001b[39;49m],\n\u001b[1;32m   <a href='file:///Users/KReddy/Library/Python/3.8/lib/python/site-packages/ipykernel/kernelbase.py?line=1179'>1180</a>\u001b[0m     \u001b[39mself\u001b[39;49m\u001b[39m.\u001b[39;49mget_parent(\u001b[39m\"\u001b[39;49m\u001b[39mshell\u001b[39;49m\u001b[39m\"\u001b[39;49m),\n\u001b[1;32m   <a href='file:///Users/KReddy/Library/Python/3.8/lib/python/site-packages/ipykernel/kernelbase.py?line=1180'>1181</a>\u001b[0m     password\u001b[39m=\u001b[39;49m\u001b[39mFalse\u001b[39;49;00m,\n\u001b[1;32m   <a href='file:///Users/KReddy/Library/Python/3.8/lib/python/site-packages/ipykernel/kernelbase.py?line=1181'>1182</a>\u001b[0m )\n",
      "File \u001b[0;32m~/Library/Python/3.8/lib/python/site-packages/ipykernel/kernelbase.py:1219\u001b[0m, in \u001b[0;36mKernel._input_request\u001b[0;34m(self, prompt, ident, parent, password)\u001b[0m\n\u001b[1;32m   <a href='file:///Users/KReddy/Library/Python/3.8/lib/python/site-packages/ipykernel/kernelbase.py?line=1215'>1216</a>\u001b[0m             \u001b[39mbreak\u001b[39;00m\n\u001b[1;32m   <a href='file:///Users/KReddy/Library/Python/3.8/lib/python/site-packages/ipykernel/kernelbase.py?line=1216'>1217</a>\u001b[0m \u001b[39mexcept\u001b[39;00m \u001b[39mKeyboardInterrupt\u001b[39;00m:\n\u001b[1;32m   <a href='file:///Users/KReddy/Library/Python/3.8/lib/python/site-packages/ipykernel/kernelbase.py?line=1217'>1218</a>\u001b[0m     \u001b[39m# re-raise KeyboardInterrupt, to truncate traceback\u001b[39;00m\n\u001b[0;32m-> <a href='file:///Users/KReddy/Library/Python/3.8/lib/python/site-packages/ipykernel/kernelbase.py?line=1218'>1219</a>\u001b[0m     \u001b[39mraise\u001b[39;00m \u001b[39mKeyboardInterrupt\u001b[39;00m(\u001b[39m\"\u001b[39m\u001b[39mInterrupted by user\u001b[39m\u001b[39m\"\u001b[39m) \u001b[39mfrom\u001b[39;00m \u001b[39mNone\u001b[39m\n\u001b[1;32m   <a href='file:///Users/KReddy/Library/Python/3.8/lib/python/site-packages/ipykernel/kernelbase.py?line=1219'>1220</a>\u001b[0m \u001b[39mexcept\u001b[39;00m \u001b[39mException\u001b[39;00m:\n\u001b[1;32m   <a href='file:///Users/KReddy/Library/Python/3.8/lib/python/site-packages/ipykernel/kernelbase.py?line=1220'>1221</a>\u001b[0m     \u001b[39mself\u001b[39m\u001b[39m.\u001b[39mlog\u001b[39m.\u001b[39mwarning(\u001b[39m\"\u001b[39m\u001b[39mInvalid Message:\u001b[39m\u001b[39m\"\u001b[39m, exc_info\u001b[39m=\u001b[39m\u001b[39mTrue\u001b[39;00m)\n",
      "\u001b[0;31mKeyboardInterrupt\u001b[0m: Interrupted by user"
     ]
    }
   ],
   "source": [
    "n = input()\n",
    "n = len(n)\n",
    "type(n)"
   ]
  },
  {
   "cell_type": "code",
   "execution_count": 2,
   "metadata": {},
   "outputs": [
    {
     "data": {
      "text/plain": [
       "1024"
      ]
     },
     "execution_count": 2,
     "metadata": {},
     "output_type": "execute_result"
    }
   ],
   "source": [
    "last_digit = 2\n",
    "numOfDigits = 10\n",
    "pow(last_digit, numOfDigits)"
   ]
  },
  {
   "cell_type": "markdown",
   "metadata": {},
   "source": []
  },
  {
   "cell_type": "code",
   "execution_count": 5,
   "metadata": {},
   "outputs": [
    {
     "name": "stdout",
     "output_type": "stream",
     "text": [
      "1234\n",
      " 234\n",
      "  34\n",
      "   4\n",
      "34\n",
      "234\n",
      "1234\n"
     ]
    }
   ],
   "source": [
    "n = int(input())\n",
    "\n",
    "for i in range(1, n+ 1):\n",
    "    j = i - 1\n",
    "    #Spaces\n",
    "    while j > 0:\n",
    "        print(\"\", end = \" \")\n",
    "        j = j - 1\n",
    "    \n",
    "    #increasing values\n",
    "    j = i\n",
    "    while j <=  n :\n",
    "        print(j, end = \"\")\n",
    "        j = j + 1\n",
    "    print()\n",
    "\n",
    "#second patern\n",
    "secondPattern = (n - 1)\n",
    "while  secondPattern >= 1 :\n",
    "   \n",
    "    j = secondPattern\n",
    "    while j <=  n :\n",
    "        print(j, end = \"\")\n",
    "        j = j + 1\n",
    "    secondPattern  = secondPattern - 1\n",
    "    print()        \n",
    "        "
   ]
  },
  {
   "cell_type": "code",
   "execution_count": 7,
   "metadata": {},
   "outputs": [
    {
     "data": {
      "text/plain": [
       "3"
      ]
     },
     "execution_count": 7,
     "metadata": {},
     "output_type": "execute_result"
    }
   ],
   "source": [
    "int(5/2) + 1"
   ]
  },
  {
   "cell_type": "code",
   "execution_count": 17,
   "metadata": {},
   "outputs": [
    {
     "name": "stdout",
     "output_type": "stream",
     "text": [
      "1 2 3 4 5 \n",
      "11 12 13 14 15 \n",
      "21 22 23 24 25 \n",
      "16 17 18 19 20 \n",
      "6 7 8 9 10 \n"
     ]
    }
   ],
   "source": [
    "n = int(input())\n",
    "h = 0\n",
    "d = int(n/2)+1\n",
    "for r in range(0, n):\n",
    "    s=''\n",
    "    if r<d:\n",
    "        h = r*2\n",
    "    elif r==d:\n",
    "        h = d\n",
    "    else:\n",
    "        h = int(d/3)\n",
    "    for c in range(1, n+1):\n",
    "        s+=str(h*n+c) + ' '\n",
    "    print(s)"
   ]
  },
  {
   "cell_type": "code",
   "execution_count": 18,
   "metadata": {},
   "outputs": [
    {
     "ename": "TypeError",
     "evalue": "int() argument must be a string, a bytes-like object or a number, not 'NoneType'",
     "output_type": "error",
     "traceback": [
      "\u001b[0;31m---------------------------------------------------------------------------\u001b[0m",
      "\u001b[0;31mTypeError\u001b[0m                                 Traceback (most recent call last)",
      "\u001b[1;32m/Users/KReddy/Documents/CONDING_NINJAS_PYTHON/Introduction_to_python/Q1.ipynb Cell 13'\u001b[0m in \u001b[0;36m<cell line: 21>\u001b[0;34m()\u001b[0m\n\u001b[1;32m     <a href='vscode-notebook-cell:/Users/KReddy/Documents/CONDING_NINJAS_PYTHON/Introduction_to_python/Q1.ipynb#ch0000012?line=19'>20</a>\u001b[0m n \u001b[39m=\u001b[39m \u001b[39mint\u001b[39m(\u001b[39minput\u001b[39m())\n\u001b[1;32m     <a href='vscode-notebook-cell:/Users/KReddy/Documents/CONDING_NINJAS_PYTHON/Introduction_to_python/Q1.ipynb#ch0000012?line=20'>21</a>\u001b[0m \u001b[39mfor\u001b[39;00m i \u001b[39min\u001b[39;00m \u001b[39mrange\u001b[39m(\u001b[39m0\u001b[39m, n):\n\u001b[0;32m---> <a href='vscode-notebook-cell:/Users/KReddy/Documents/CONDING_NINJAS_PYTHON/Introduction_to_python/Q1.ipynb#ch0000012?line=21'>22</a>\u001b[0m     \u001b[39mif\u001b[39;00m (isFibbonacci(i) \u001b[39m==\u001b[39m \u001b[39mTrue\u001b[39;00m):\n\u001b[1;32m     <a href='vscode-notebook-cell:/Users/KReddy/Documents/CONDING_NINJAS_PYTHON/Introduction_to_python/Q1.ipynb#ch0000012?line=22'>23</a>\u001b[0m         \u001b[39mprint\u001b[39m(\u001b[39m'\u001b[39m\u001b[39mtrue\u001b[39m\u001b[39m'\u001b[39m)\n\u001b[1;32m     <a href='vscode-notebook-cell:/Users/KReddy/Documents/CONDING_NINJAS_PYTHON/Introduction_to_python/Q1.ipynb#ch0000012?line=23'>24</a>\u001b[0m     \u001b[39melse\u001b[39;00m:\n",
      "\u001b[1;32m/Users/KReddy/Documents/CONDING_NINJAS_PYTHON/Introduction_to_python/Q1.ipynb Cell 13'\u001b[0m in \u001b[0;36misFibbonacci\u001b[0;34m(n)\u001b[0m\n\u001b[1;32m     <a href='vscode-notebook-cell:/Users/KReddy/Documents/CONDING_NINJAS_PYTHON/Introduction_to_python/Q1.ipynb#ch0000012?line=13'>14</a>\u001b[0m \u001b[39mdef\u001b[39;00m \u001b[39misFibbonacci\u001b[39m(n):\n\u001b[1;32m     <a href='vscode-notebook-cell:/Users/KReddy/Documents/CONDING_NINJAS_PYTHON/Introduction_to_python/Q1.ipynb#ch0000012?line=14'>15</a>\u001b[0m     \n\u001b[1;32m     <a href='vscode-notebook-cell:/Users/KReddy/Documents/CONDING_NINJAS_PYTHON/Introduction_to_python/Q1.ipynb#ch0000012?line=15'>16</a>\u001b[0m     \u001b[39m# n is Fibonacci if one of 5*n*n + 4 or 5*n*n - 4 or both\u001b[39;00m\n\u001b[1;32m     <a href='vscode-notebook-cell:/Users/KReddy/Documents/CONDING_NINJAS_PYTHON/Introduction_to_python/Q1.ipynb#ch0000012?line=16'>17</a>\u001b[0m     \u001b[39m# is perfect square\u001b[39;00m\n\u001b[0;32m---> <a href='vscode-notebook-cell:/Users/KReddy/Documents/CONDING_NINJAS_PYTHON/Introduction_to_python/Q1.ipynb#ch0000012?line=17'>18</a>\u001b[0m     \u001b[39mreturn\u001b[39;00m isPerfectSquare(\u001b[39m5\u001b[39;49m\u001b[39m*\u001b[39;49mn\u001b[39m*\u001b[39;49mn \u001b[39m-\u001b[39;49m \u001b[39m4\u001b[39;49m) \u001b[39mor\u001b[39;00m isPerfectSquare(\u001b[39m5\u001b[39m\u001b[39m*\u001b[39mn\u001b[39m*\u001b[39mn\u001b[39m+\u001b[39m\u001b[39m4\u001b[39m)\n",
      "\u001b[1;32m/Users/KReddy/Documents/CONDING_NINJAS_PYTHON/Introduction_to_python/Q1.ipynb Cell 13'\u001b[0m in \u001b[0;36misPerfectSquare\u001b[0;34m(x)\u001b[0m\n\u001b[1;32m      <a href='vscode-notebook-cell:/Users/KReddy/Documents/CONDING_NINJAS_PYTHON/Introduction_to_python/Q1.ipynb#ch0000012?line=7'>8</a>\u001b[0m \u001b[39mdef\u001b[39;00m \u001b[39misPerfectSquare\u001b[39m(x):\n\u001b[0;32m----> <a href='vscode-notebook-cell:/Users/KReddy/Documents/CONDING_NINJAS_PYTHON/Introduction_to_python/Q1.ipynb#ch0000012?line=8'>9</a>\u001b[0m     s \u001b[39m=\u001b[39m \u001b[39mint\u001b[39;49m(sqRoot(x))\n\u001b[1;32m     <a href='vscode-notebook-cell:/Users/KReddy/Documents/CONDING_NINJAS_PYTHON/Introduction_to_python/Q1.ipynb#ch0000012?line=9'>10</a>\u001b[0m     \u001b[39mreturn\u001b[39;00m s\u001b[39m*\u001b[39ms \u001b[39m==\u001b[39m x\n",
      "\u001b[0;31mTypeError\u001b[0m: int() argument must be a string, a bytes-like object or a number, not 'NoneType'"
     ]
    }
   ],
   "source": [
    "\n",
    "# Using the exponent operator to calculate the square root in Python\n",
    "def sqRoot(n):\n",
    "    if n < 0:\n",
    "        return\n",
    "    else:\n",
    "        return n**0.5\n",
    "    \n",
    "def isPerfectSquare(x):\n",
    "    s = int(sqRoot(x))\n",
    "    return s*s == x\n",
    "\n",
    "\n",
    "\n",
    "def isFibbonacci(n):\n",
    "    \n",
    "    # n is Fibonacci if one of 5*n*n + 4 or 5*n*n - 4 or both\n",
    "    # is perfect square\n",
    "    return isPerfectSquare(5*n*n - 4) or isPerfectSquare(5*n*n+4)\n",
    "\n",
    "n = int(input())\n",
    "for i in range(0, n):\n",
    "    if (isFibbonacci(i) == True):\n",
    "        print('true')\n",
    "    else:\n",
    "        print('false')\n"
   ]
  },
  {
   "cell_type": "code",
   "execution_count": null,
   "metadata": {},
   "outputs": [],
   "source": []
  }
 ],
 "metadata": {
  "interpreter": {
   "hash": "31f2aee4e71d21fbe5cf8b01ff0e069b9275f58929596ceb00d14d90e3e16cd6"
  },
  "kernelspec": {
   "display_name": "Python 3.8.9 64-bit",
   "language": "python",
   "name": "python3"
  },
  "language_info": {
   "codemirror_mode": {
    "name": "ipython",
    "version": 3
   },
   "file_extension": ".py",
   "mimetype": "text/x-python",
   "name": "python",
   "nbconvert_exporter": "python",
   "pygments_lexer": "ipython3",
   "version": "3.8.9"
  },
  "orig_nbformat": 4
 },
 "nbformat": 4,
 "nbformat_minor": 2
}
