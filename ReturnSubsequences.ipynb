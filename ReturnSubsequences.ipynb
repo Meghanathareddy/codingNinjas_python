{
 "cells": [
  {
   "cell_type": "code",
   "execution_count": 1,
   "metadata": {},
   "outputs": [],
   "source": [
    "def subs(s):\n",
    "    if len(s) == 0:\n",
    "        output = []\n",
    "        output.append(\"\")\n",
    "        return output\n",
    "    smallerString = s[1:]\n",
    "    smallerOutput = subs(smallerString)\n",
    "\n",
    "    output = []\n",
    "    for sub in smallerOutput:\n",
    "        output.append(sub)\n",
    "    for sub in smallerOutput:\n",
    "        subs_with_zeroth_char = s[0] + sub\n",
    "        output.append(s[0]+sub)\n",
    "    return output\n"
   ]
  },
  {
   "cell_type": "code",
   "execution_count": 2,
   "metadata": {},
   "outputs": [
    {
     "data": {
      "text/plain": [
       "['',\n",
       " 'd',\n",
       " 'c',\n",
       " 'cd',\n",
       " 'b',\n",
       " 'bd',\n",
       " 'bc',\n",
       " 'bcd',\n",
       " 'a',\n",
       " 'ad',\n",
       " 'ac',\n",
       " 'acd',\n",
       " 'ab',\n",
       " 'abd',\n",
       " 'abc',\n",
       " 'abcd']"
      ]
     },
     "execution_count": 2,
     "metadata": {},
     "output_type": "execute_result"
    }
   ],
   "source": [
    "subs(\"abcd\")"
   ]
  },
  {
   "cell_type": "code",
   "execution_count": 3,
   "metadata": {},
   "outputs": [
    {
     "name": "stdout",
     "output_type": "stream",
     "text": [
      "abc bac bca acb cab cba\n"
     ]
    }
   ],
   "source": [
    "def get_permutations(string):\n",
    "    # Base case: if the string is empty, return an empty list\n",
    "    if len(string) == 0:\n",
    "        return []\n",
    "\n",
    "    # Base case: if the string has only one character, return a list containing that character\n",
    "    if len(string) == 1:\n",
    "        return [string]\n",
    "\n",
    "    # Recursive case: generate all permutations of the string by inserting the first character in all positions\n",
    "    permutations = []\n",
    "    for permutation in get_permutations(string[1:]):\n",
    "        for i in range(len(permutation)+1):\n",
    "            permutations.append(permutation[:i] + string[0] + permutation[i:])\n",
    "\n",
    "    # Return the list of permutations\n",
    "    return permutations\n",
    "\n",
    "a = get_permutations(\"abc\")\n",
    "print(*a)"
   ]
  },
  {
   "cell_type": "code",
   "execution_count": null,
   "metadata": {},
   "outputs": [],
   "source": []
  }
 ],
 "metadata": {
  "interpreter": {
   "hash": "aee8b7b246df8f9039afb4144a1f6fd8d2ca17a180786b69acc140d282b71a49"
  },
  "kernelspec": {
   "display_name": "Python 3.10.1 64-bit",
   "language": "python",
   "name": "python3"
  },
  "language_info": {
   "codemirror_mode": {
    "name": "ipython",
    "version": 3
   },
   "file_extension": ".py",
   "mimetype": "text/x-python",
   "name": "python",
   "nbconvert_exporter": "python",
   "pygments_lexer": "ipython3",
   "version": "3.10.1"
  },
  "orig_nbformat": 4
 },
 "nbformat": 4,
 "nbformat_minor": 2
}
