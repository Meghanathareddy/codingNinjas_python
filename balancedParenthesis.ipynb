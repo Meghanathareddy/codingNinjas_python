{
 "cells": [
  {
   "cell_type": "code",
   "execution_count": 1,
   "metadata": {},
   "outputs": [
    {
     "name": "stderr",
     "output_type": "stream",
     "text": [
      "<>:8: SyntaxWarning: \"is\" with a literal. Did you mean \"==\"?\n",
      "<>:12: SyntaxWarning: \"is\" with a literal. Did you mean \"==\"?\n",
      "<>:16: SyntaxWarning: \"is\" with a literal. Did you mean \"==\"?\n",
      "<>:8: SyntaxWarning: \"is\" with a literal. Did you mean \"==\"?\n",
      "<>:12: SyntaxWarning: \"is\" with a literal. Did you mean \"==\"?\n",
      "<>:16: SyntaxWarning: \"is\" with a literal. Did you mean \"==\"?\n",
      "/var/folders/km/0f4rj_kj0xjg7zl27y89z_1m0000gq/T/ipykernel_2507/3657116839.py:8: SyntaxWarning: \"is\" with a literal. Did you mean \"==\"?\n",
      "  elif char is ')':\n",
      "/var/folders/km/0f4rj_kj0xjg7zl27y89z_1m0000gq/T/ipykernel_2507/3657116839.py:12: SyntaxWarning: \"is\" with a literal. Did you mean \"==\"?\n",
      "  elif char is '}':\n",
      "/var/folders/km/0f4rj_kj0xjg7zl27y89z_1m0000gq/T/ipykernel_2507/3657116839.py:16: SyntaxWarning: \"is\" with a literal. Did you mean \"==\"?\n",
      "  elif char is ']':\n"
     ]
    }
   ],
   "source": [
    "def isBalanced(string):\n",
    "\n",
    "    s  = []\n",
    "    for char in string:\n",
    "\n",
    "        if char in '({[':\n",
    "            s.append(char)\n",
    "        elif char is ')':\n",
    "            if (not s or s[-1] != '('):\n",
    "                return False\n",
    "            s.pop()\n",
    "        elif char is '}':\n",
    "            if (not s or s[-1] != '}'):\n",
    "                return False\n",
    "            s.pop()\n",
    "        elif char is ']':\n",
    "            if (not s or s[-1] != ']'):\n",
    "                return False\n",
    "            s.pop()\n",
    "    if (not s):\n",
    "        return True\n",
    "    return False\n",
    "    "
   ]
  },
  {
   "cell_type": "code",
   "execution_count": 3,
   "metadata": {},
   "outputs": [
    {
     "name": "stdout",
     "output_type": "stream",
     "text": [
      "False\n"
     ]
    }
   ],
   "source": [
    "string = input()\n",
    "ans = isBalanced(string)\n",
    "print(ans)"
   ]
  },
  {
   "cell_type": "code",
   "execution_count": null,
   "metadata": {},
   "outputs": [],
   "source": []
  }
 ],
 "metadata": {
  "interpreter": {
   "hash": "aee8b7b246df8f9039afb4144a1f6fd8d2ca17a180786b69acc140d282b71a49"
  },
  "kernelspec": {
   "display_name": "Python 3.10.1 64-bit",
   "language": "python",
   "name": "python3"
  },
  "language_info": {
   "codemirror_mode": {
    "name": "ipython",
    "version": 3
   },
   "file_extension": ".py",
   "mimetype": "text/x-python",
   "name": "python",
   "nbconvert_exporter": "python",
   "pygments_lexer": "ipython3",
   "version": "3.10.1"
  },
  "orig_nbformat": 4
 },
 "nbformat": 4,
 "nbformat_minor": 2
}
