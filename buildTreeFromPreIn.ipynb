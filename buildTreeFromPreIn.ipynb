{
 "cells": [
  {
   "cell_type": "code",
   "execution_count": 1,
   "metadata": {},
   "outputs": [],
   "source": [
    "class BinaryTreeNodes:\n",
    "    def __init__(self, data):\n",
    "        self.data = data\n",
    "        self.left = None\n",
    "        self.right = None"
   ]
  },
  {
   "cell_type": "code",
   "execution_count": 2,
   "metadata": {},
   "outputs": [],
   "source": [
    "def buildTreeFromPreIn(pre, inorder):\n",
    "\n",
    "    if len(pre) == 0:\n",
    "        return None\n",
    "    \n",
    "    rootData = pre[0]\n",
    "    root = BinaryTreeNodes(rootData)\n",
    "    rootIndexInInorder = -1\n",
    "    for i in range(0, len(inorder)):\n",
    "        if inorder[i] == rootData:\n",
    "            rootIndexInInorder = i\n",
    "            break\n",
    "    if rootIndexInInorder == -1:\n",
    "        return None\n",
    "    leftInorder = inorder[0:rootIndexInInorder]\n",
    "    rightInorder = inorder[rootIndexInInorder+1:]\n",
    "\n",
    "    lenLeftSubtree = len(leftInorder)\n",
    "\n",
    "    leftPreOrder = pre[1:lenLeftSubtree+1]\n",
    "    rightPreOrder = pre[lenLeftSubtree+1:]\n",
    "\n",
    "    leftChild = buildTreeFromPreIn(leftPreOrder, leftInorder)\n",
    "    rightChild = buildTreeFromPreIn(rightPreOrder, rightInorder)\n",
    "    root.left = leftChild\n",
    "    root.right = rightChild\n",
    "    return root\n"
   ]
  },
  {
   "cell_type": "code",
   "execution_count": 3,
   "metadata": {},
   "outputs": [],
   "source": [
    "def printLevelOrder(root):\n",
    "\n",
    "    #Base case\n",
    "    if root is None:\n",
    "        return\n",
    "    \n",
    "    #create an empty queue for level order treaversal\n",
    "    q = []\n",
    "\n",
    "    #Enqueue root and initialize height\n",
    "    q.append(root)\n",
    "\n",
    "    while q:\n",
    "\n",
    "        #nodeCount (queue size ) indicates number \n",
    "        #of nodes at current level\n",
    "        count = len(q)\n",
    "        # Dequeue all nodes of current level\n",
    "        #Enqueue all nodes of next level\n",
    "\n",
    "        while count > 0:\n",
    "            temp = q.pop(0)\n",
    "            print(temp.data, end = \" \")\n",
    "            if temp.left:\n",
    "                q.append(temp.left)\n",
    "            if temp.right:\n",
    "                q.append(temp.right)\n",
    "            \n",
    "            count -= 1\n",
    "        print(' ')\n"
   ]
  },
  {
   "cell_type": "code",
   "execution_count": 5,
   "metadata": {},
   "outputs": [
    {
     "name": "stdout",
     "output_type": "stream",
     "text": [
      "1  \n",
      "2 3  \n",
      "4 5 6 7  \n"
     ]
    }
   ],
   "source": [
    "pre = [1,2,4,5,3,6,7]\n",
    "inorder = [4,2,5,1,6,3,7]\n",
    "root = buildTreeFromPreIn(pre, inorder)\n",
    "printLevelOrder(root)"
   ]
  },
  {
   "cell_type": "code",
   "execution_count": null,
   "metadata": {},
   "outputs": [],
   "source": []
  }
 ],
 "metadata": {
  "interpreter": {
   "hash": "aee8b7b246df8f9039afb4144a1f6fd8d2ca17a180786b69acc140d282b71a49"
  },
  "kernelspec": {
   "display_name": "Python 3.10.1 64-bit",
   "language": "python",
   "name": "python3"
  },
  "language_info": {
   "codemirror_mode": {
    "name": "ipython",
    "version": 3
   },
   "file_extension": ".py",
   "mimetype": "text/x-python",
   "name": "python",
   "nbconvert_exporter": "python",
   "pygments_lexer": "ipython3",
   "version": "3.10.1"
  },
  "orig_nbformat": 4
 },
 "nbformat": 4,
 "nbformat_minor": 2
}
