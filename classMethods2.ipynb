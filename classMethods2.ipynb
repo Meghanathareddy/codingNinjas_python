{
 "cells": [
  {
   "cell_type": "code",
   "execution_count": 1,
   "metadata": {},
   "outputs": [],
   "source": [
    "class ExpenseTracker:\n",
    "    expense_version_tracker = 0.1\n",
    "    \"\"\"\n",
    "    This is a class to do opening tracking\n",
    "    \"\"\"\n",
    "    def  __init__(self,tracker_category,original_balance,budget):\n",
    "        self.tracker_category = tracker_category\n",
    "        self.original_balance = original_balance\n",
    "        self.tracker_budget = budget\n",
    "\n",
    "    #instance method\n",
    "    def get_original_balance(self):\n",
    "        return self.original_balance\n",
    "    \n",
    "    #instance method\n",
    "    def check_balance(self,limit = 1000):\n",
    "        if (self.tracker_budget >= limit):\n",
    "            return True\n",
    "        else:\n",
    "            return \"Your opening balance is less than limit\"\n",
    "    \n",
    "    @staticmethod\n",
    "    def convert_amount(amount):\n",
    "        return float(amount)\n",
    "\n",
    "    @classmethod\n",
    "    def get_attributes_fromstring(cls,diary_entry:str):\n",
    "        tracker_category, opening_balance, tracker_budget = diary_entry.split(\" \")\n",
    "\n",
    "        return ExpenseTracker(tracker_category.capitalize(),\n",
    "                cls.convert_amount(opening_balance),\n",
    "                cls.convert_amount(tracker_budget))"
   ]
  },
  {
   "cell_type": "code",
   "execution_count": 2,
   "metadata": {},
   "outputs": [],
   "source": [
    "classObject = ExpenseTracker.get_attributes_fromstring(\"shopping 100 5000\")"
   ]
  },
  {
   "cell_type": "code",
   "execution_count": 3,
   "metadata": {},
   "outputs": [
    {
     "data": {
      "text/plain": [
       "{'tracker_category': 'Shopping',\n",
       " 'original_balance': 100.0,\n",
       " 'tracker_budget': 5000.0}"
      ]
     },
     "execution_count": 3,
     "metadata": {},
     "output_type": "execute_result"
    }
   ],
   "source": [
    "classObject.__dict__"
   ]
  },
  {
   "cell_type": "code",
   "execution_count": null,
   "metadata": {},
   "outputs": [],
   "source": []
  }
 ],
 "metadata": {
  "interpreter": {
   "hash": "aee8b7b246df8f9039afb4144a1f6fd8d2ca17a180786b69acc140d282b71a49"
  },
  "kernelspec": {
   "display_name": "Python 3.10.1 64-bit",
   "language": "python",
   "name": "python3"
  },
  "language_info": {
   "codemirror_mode": {
    "name": "ipython",
    "version": 3
   },
   "file_extension": ".py",
   "mimetype": "text/x-python",
   "name": "python",
   "nbconvert_exporter": "python",
   "pygments_lexer": "ipython3",
   "version": "3.10.1"
  },
  "orig_nbformat": 4
 },
 "nbformat": 4,
 "nbformat_minor": 2
}
