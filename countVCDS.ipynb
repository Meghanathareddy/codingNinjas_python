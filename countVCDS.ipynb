{
 "cells": [
  {
   "cell_type": "markdown",
   "metadata": {},
   "source": [
    "##Count number of Vowels, Consants , digits and Special characters in String"
   ]
  },
  {
   "cell_type": "code",
   "execution_count": 2,
   "metadata": {},
   "outputs": [
    {
     "name": "stdout",
     "output_type": "stream",
     "text": [
      "6 34 6 17\n"
     ]
    }
   ],
   "source": [
    "def countInString(str):\n",
    "    v,c,d,s = 0,0,0,0\n",
    "    for char in str:\n",
    "        if (char >= 'a' and char <= \"z\") or (char >= 'A' and char <= \"Z\"):\n",
    "            char = char.lower()\n",
    "            if (char == 'a' or char == 'e' or char == 'i' or char == 'o' or char == 'u'):\n",
    "                v += 1\n",
    "            else:\n",
    "                c += 1\n",
    "        elif ((char >= '0' and char <= \"9\")):\n",
    "            d += 1\n",
    "        else:\n",
    "            s += 1\n",
    "    return v,c,d,s\n",
    "\n",
    "\n",
    "\n",
    "str = \"qWDWEFRGHCGHJVN BVFDRERFZDQRAREGZ VDA123456!@#$%^%$FDERT@#$%$# \"\n",
    "type(str[0])\n",
    "v,c,d,s = countInString(str)\n",
    "print(v,c,d,s)"
   ]
  },
  {
   "cell_type": "code",
   "execution_count": null,
   "metadata": {},
   "outputs": [],
   "source": []
  },
  {
   "cell_type": "code",
   "execution_count": 3,
   "metadata": {},
   "outputs": [
    {
     "ename": "TypeError",
     "evalue": "'str' object does not support item assignment",
     "output_type": "error",
     "traceback": [
      "\u001b[0;31m---------------------------------------------------------------------------\u001b[0m",
      "\u001b[0;31mTypeError\u001b[0m                                 Traceback (most recent call last)",
      "Cell \u001b[0;32mIn [3], line 2\u001b[0m\n\u001b[1;32m      1\u001b[0m s \u001b[38;5;241m=\u001b[39m \u001b[38;5;124m\"\u001b[39m\u001b[38;5;124mabc\u001b[39m\u001b[38;5;124m\"\u001b[39m\n\u001b[0;32m----> 2\u001b[0m \u001b[43ms\u001b[49m\u001b[43m[\u001b[49m\u001b[38;5;241;43m0\u001b[39;49m\u001b[43m]\u001b[49m \u001b[38;5;241m=\u001b[39m s[\u001b[38;5;241m1\u001b[39m]\n\u001b[1;32m      3\u001b[0m s\n",
      "\u001b[0;31mTypeError\u001b[0m: 'str' object does not support item assignment"
     ]
    }
   ],
   "source": [
    "s = \"abc\"\n",
    "s = s[s[1]\n",
    "s"
   ]
  },
  {
   "cell_type": "code",
   "execution_count": null,
   "metadata": {},
   "outputs": [],
   "source": []
  }
 ],
 "metadata": {
  "interpreter": {
   "hash": "aee8b7b246df8f9039afb4144a1f6fd8d2ca17a180786b69acc140d282b71a49"
  },
  "kernelspec": {
   "display_name": "Python 3.10.1 64-bit",
   "language": "python",
   "name": "python3"
  },
  "language_info": {
   "codemirror_mode": {
    "name": "ipython",
    "version": 3
   },
   "file_extension": ".py",
   "mimetype": "text/x-python",
   "name": "python",
   "nbconvert_exporter": "python",
   "pygments_lexer": "ipython3",
   "version": "3.10.1"
  },
  "orig_nbformat": 4
 },
 "nbformat": 4,
 "nbformat_minor": 2
}
