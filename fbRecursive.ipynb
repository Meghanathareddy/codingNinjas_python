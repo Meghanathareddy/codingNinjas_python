{
 "cells": [
  {
   "cell_type": "code",
   "execution_count": 1,
   "metadata": {},
   "outputs": [
    {
     "name": "stdout",
     "output_type": "stream",
     "text": [
      "1\n"
     ]
    }
   ],
   "source": [
    "def fibb(n):\n",
    "\n",
    "    if n == 0 or n == 1:\n",
    "        return n\n",
    "    ans1 = fibb(n-1)\n",
    "    ans2 = fibb(n-2)\n",
    "\n",
    "    myAns = ans1 + ans2\n",
    "    return myAns\n",
    "\n",
    "n = int(input())\n",
    "ans = fibb(n)\n",
    "print(ans)\n"
   ]
  },
  {
   "cell_type": "code",
   "execution_count": 5,
   "metadata": {},
   "outputs": [
    {
     "name": "stdout",
     "output_type": "stream",
     "text": [
      "5\n"
     ]
    }
   ],
   "source": [
    "def fibb(n,dp):\n",
    "\n",
    "    if n == 0 or n == 1:\n",
    "        return n\n",
    "    if dp[n - 1] == -1:\n",
    "        ans1 = fibb(n-1, dp)\n",
    "        dp[n-1] = ans1\n",
    "    else:\n",
    "        ans1 = dp[n-1]\n",
    "    \n",
    "    if dp[n - 2 ] == -1:\n",
    "        ans2 = fibb(n - 2,dp)\n",
    "        dp[n - 2] = ans2\n",
    "    else:\n",
    "        ans2 = dp[n - 2]\n",
    "    \n",
    "    myAns = ans1 + ans2\n",
    "    return myAns\n",
    "\n",
    "n = int(input())\n",
    "dp = [ -1 for i in range(n+1)]\n",
    "ans = fibb(n, dp)\n",
    "print(ans)"
   ]
  },
  {
   "cell_type": "markdown",
   "metadata": {},
   "source": []
  },
  {
   "cell_type": "code",
   "execution_count": 6,
   "metadata": {},
   "outputs": [
    {
     "name": "stdout",
     "output_type": "stream",
     "text": [
      "5\n"
     ]
    }
   ],
   "source": [
    "def fibbI(n):\n",
    "    dp = [0 for i in range(n + 1)]\n",
    "    dp[0] = 0\n",
    "    dp[1] = 1\n",
    "    i = 2\n",
    "    while i <= n:\n",
    "        dp[i] = dp[i-1] + dp[i-2]\n",
    "        i += 1\n",
    "n = int(input())\n",
    "dp = [ -1 for i in range(n+1)]\n",
    "ans = fibb(n, dp)\n",
    "print(ans)"
   ]
  },
  {
   "cell_type": "code",
   "execution_count": null,
   "metadata": {},
   "outputs": [],
   "source": []
  }
 ],
 "metadata": {
  "interpreter": {
   "hash": "aee8b7b246df8f9039afb4144a1f6fd8d2ca17a180786b69acc140d282b71a49"
  },
  "kernelspec": {
   "display_name": "Python 3.10.1 64-bit",
   "language": "python",
   "name": "python3"
  },
  "language_info": {
   "codemirror_mode": {
    "name": "ipython",
    "version": 3
   },
   "file_extension": ".py",
   "mimetype": "text/x-python",
   "name": "python",
   "nbconvert_exporter": "python",
   "pygments_lexer": "ipython3",
   "version": "3.10.1"
  },
  "orig_nbformat": 4
 },
 "nbformat": 4,
 "nbformat_minor": 2
}
