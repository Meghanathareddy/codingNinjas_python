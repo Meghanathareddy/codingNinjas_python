{
 "cells": [
  {
   "cell_type": "code",
   "execution_count": 1,
   "metadata": {},
   "outputs": [
    {
     "name": "stdout",
     "output_type": "stream",
     "text": [
      "500\n"
     ]
    }
   ],
   "source": [
    "def knapSack(W, val ,wt, n, i):\n",
    "\n",
    "    if i == n:\n",
    "        return 0\n",
    "    \n",
    "    if wt[i] > W:\n",
    "        ans = knapSack(W, wt, val, n, i+1)\n",
    "\n",
    "    else:\n",
    "        #inclusion of ith item:\n",
    "        ans1 = val[i] + knapSack(W-wt[i],val, wt, n,i+1)\n",
    "        #exclusion of ith item\n",
    "        ans2 = knapSack(W,val, wt,n, i+1)\n",
    "\n",
    "        ans = max(ans1,ans2)\n",
    "    return ans\n",
    "\n",
    "val = [200, 300, 100]\n",
    "wt = [20, 25, 30]\n",
    "W = 50\n",
    "n = len(val)\n",
    "ans = knapSack(W, val, wt, n, 0)\n",
    "print(ans)"
   ]
  },
  {
   "cell_type": "code",
   "execution_count": 2,
   "metadata": {},
   "outputs": [],
   "source": [
    "def knapSackIterative(W,val,wt):\n",
    "\n",
    "    n = len(val)\n",
    "    dp = [[0 for j in range(W+1)]for i in range(n+1)]\n",
    "\n",
    "    for i in range(1, n+1):\n",
    "        for j in range(1, W+1):\n",
    "\n",
    "            if j < wt[i-1]:\n",
    "                ans = dp[i-1][j]\n",
    "            else:\n",
    "                ans1 = val[i-1] + dp[i-1][j-wt[i-1]]\n",
    "                ans2 = dp[i-1][j]\n",
    "                ans = max(ans1, ans2)\n",
    "            \n",
    "            dp[i][j] = ans\n",
    "            \n",
    "    return dp[n][W]\n",
    "    "
   ]
  },
  {
   "cell_type": "code",
   "execution_count": 5,
   "metadata": {},
   "outputs": [
    {
     "name": "stdout",
     "output_type": "stream",
     "text": [
      "500\n"
     ]
    }
   ],
   "source": [
    "val = [200, 300, 100]\n",
    "wt = [20, 25, 30]\n",
    "W = 50\n",
    "n = len(val)\n",
    "ans = knapSackIterative(W, val, wt)\n",
    "print(ans)"
   ]
  },
  {
   "cell_type": "code",
   "execution_count": null,
   "metadata": {},
   "outputs": [],
   "source": []
  }
 ],
 "metadata": {
  "interpreter": {
   "hash": "aee8b7b246df8f9039afb4144a1f6fd8d2ca17a180786b69acc140d282b71a49"
  },
  "kernelspec": {
   "display_name": "Python 3.10.1 64-bit",
   "language": "python",
   "name": "python3"
  },
  "language_info": {
   "codemirror_mode": {
    "name": "ipython",
    "version": 3
   },
   "file_extension": ".py",
   "mimetype": "text/x-python",
   "name": "python",
   "nbconvert_exporter": "python",
   "pygments_lexer": "ipython3",
   "version": "3.10.1"
  },
  "orig_nbformat": 4
 },
 "nbformat": 4,
 "nbformat_minor": 2
}
