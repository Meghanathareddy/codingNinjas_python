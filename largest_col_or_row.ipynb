{
 "cells": [
  {
   "cell_type": "code",
   "execution_count": 9,
   "metadata": {},
   "outputs": [],
   "source": [
    "def largestColOrRow(li):\n",
    "    sum = 0\n",
    "    largestRow = -1\n",
    "    rn = 0\n",
    "    for i in range(0,len(li[0]),1):\n",
    "        sum = 0\n",
    "        for j in range(0, len(li[i]),1):\n",
    "            sum += li[i][j]\n",
    "        if sum > largestRow:\n",
    "            largestRow = sum\n",
    "            rn = i\n",
    "    sum1 = 0\n",
    "    largestCol = -1\n",
    "    cn = 0\n",
    "    for j in range(0,len(li[0]),1):\n",
    "        sum1 = 0\n",
    "        for i in range(0, len(li),1):\n",
    "            sum1 += li[i][j]\n",
    "        if sum1 > largestCol:\n",
    "            largestCol = sum1\n",
    "            cn = j\n",
    "\n",
    "\n"
   ]
  },
  {
   "cell_type": "code",
   "execution_count": 10,
   "metadata": {},
   "outputs": [
    {
     "ename": "IndexError",
     "evalue": "list index out of range",
     "output_type": "error",
     "traceback": [
      "\u001b[0;31m---------------------------------------------------------------------------\u001b[0m",
      "\u001b[0;31mIndexError\u001b[0m                                Traceback (most recent call last)",
      "Cell \u001b[0;32mIn [10], line 1\u001b[0m\n\u001b[0;32m----> 1\u001b[0m \u001b[43mlargestColOrRow\u001b[49m\u001b[43m(\u001b[49m\u001b[43m[\u001b[49m\u001b[43m[\u001b[49m\u001b[38;5;241;43m1\u001b[39;49m\u001b[43m,\u001b[49m\u001b[38;5;241;43m2\u001b[39;49m\u001b[43m,\u001b[49m\u001b[38;5;241;43m3\u001b[39;49m\u001b[43m]\u001b[49m\u001b[43m,\u001b[49m\u001b[43m[\u001b[49m\u001b[38;5;241;43m4\u001b[39;49m\u001b[43m,\u001b[49m\u001b[38;5;241;43m5\u001b[39;49m\u001b[43m]\u001b[49m\u001b[43m,\u001b[49m\u001b[43m[\u001b[49m\u001b[38;5;241;43m6\u001b[39;49m\u001b[43m,\u001b[49m\u001b[38;5;241;43m7\u001b[39;49m\u001b[43m,\u001b[49m\u001b[38;5;241;43m8\u001b[39;49m\u001b[43m]\u001b[49m\u001b[43m]\u001b[49m\u001b[43m)\u001b[49m\n",
      "Cell \u001b[0;32mIn [9], line 18\u001b[0m, in \u001b[0;36mlargestColOrRow\u001b[0;34m(li)\u001b[0m\n\u001b[1;32m     16\u001b[0m sum1 \u001b[38;5;241m=\u001b[39m \u001b[38;5;241m0\u001b[39m\n\u001b[1;32m     17\u001b[0m \u001b[38;5;28;01mfor\u001b[39;00m i \u001b[38;5;129;01min\u001b[39;00m \u001b[38;5;28mrange\u001b[39m(\u001b[38;5;241m0\u001b[39m, \u001b[38;5;28mlen\u001b[39m(li),\u001b[38;5;241m1\u001b[39m):\n\u001b[0;32m---> 18\u001b[0m     sum1 \u001b[38;5;241m+\u001b[39m\u001b[38;5;241m=\u001b[39m \u001b[43mli\u001b[49m\u001b[43m[\u001b[49m\u001b[43mi\u001b[49m\u001b[43m]\u001b[49m\u001b[43m[\u001b[49m\u001b[43mj\u001b[49m\u001b[43m]\u001b[49m\n\u001b[1;32m     19\u001b[0m \u001b[38;5;28;01mif\u001b[39;00m sum1 \u001b[38;5;241m>\u001b[39m largestCol:\n\u001b[1;32m     20\u001b[0m     largestCol \u001b[38;5;241m=\u001b[39m sum1\n",
      "\u001b[0;31mIndexError\u001b[0m: list index out of range"
     ]
    }
   ],
   "source": [
    "largestColOrRow([[1,2,3],[4,5],[6,7,8]])"
   ]
  },
  {
   "cell_type": "code",
   "execution_count": 11,
   "metadata": {},
   "outputs": [],
   "source": [
    "def lar_col_sum(li):\n",
    "    n = len(li)\n",
    "    m = len(li[0])\n",
    "\n",
    "    max_sum = -1\n",
    "    max_col_index = -1\n",
    "    for j in range(m):\n",
    "        sum = 0 \n",
    "        for ele in li:\n",
    "            sum += ele[j]\n",
    "        if sum > max_sum:\n",
    "            max_col_index = j\n",
    "            max_sum = sum\n",
    "    return max_sum, max_col_index\n"
   ]
  },
  {
   "cell_type": "code",
   "execution_count": 12,
   "metadata": {},
   "outputs": [
    {
     "name": "stdout",
     "output_type": "stream",
     "text": [
      "21 3\n"
     ]
    }
   ],
   "source": [
    "li = [[1,2,3,4],[8,7,6,5],[9,10,11,12]]\n",
    "lar_sum, lar_col_sum = lar_col_sum(li)\n",
    "print(lar_sum,lar_col_sum)"
   ]
  },
  {
   "cell_type": "code",
   "execution_count": 15,
   "metadata": {},
   "outputs": [],
   "source": [
    "def lar_row_sum(li):\n",
    "    n = len(li)\n",
    "    m = len(li[0])\n",
    "\n",
    "    max_sum = -1\n",
    "    max_row_index = -1\n",
    "    for i in range(n):\n",
    "        sum = 0 \n",
    "        for j in range(m):\n",
    "            sum += li[i][j]\n",
    "        if sum > max_sum:\n",
    "            max_row_index = j\n",
    "            max_sum = sum\n",
    "    return max_sum, max_row_index"
   ]
  },
  {
   "cell_type": "code",
   "execution_count": 16,
   "metadata": {},
   "outputs": [
    {
     "name": "stdout",
     "output_type": "stream",
     "text": [
      "42 3\n"
     ]
    }
   ],
   "source": [
    "li = [[1,2,3,4],[8,7,6,5],[9,10,11,12]]\n",
    "lar_sum, lar_row_sum = lar_row_sum(li)\n",
    "print(lar_sum,lar_row_sum)"
   ]
  },
  {
   "cell_type": "code",
   "execution_count": 19,
   "metadata": {},
   "outputs": [],
   "source": [
    "def lar_col_or_row_sum(li):\n",
    "    n = len(li)\n",
    "    m = len(li[0])\n",
    "\n",
    "    max_sum = -1\n",
    "    max_row_index = -1\n",
    "    for i in range(n):\n",
    "        sum = 0 \n",
    "        for j in range(m):\n",
    "            sum += li[i][j]\n",
    "        if sum > max_sum:\n",
    "            max_row_index = j\n",
    "            max_sum = sum\n",
    "    print(max_sum, max_row_index)\n",
    "    max_sum = -1\n",
    "    max_col_index = -1\n",
    "    for j in range(m):\n",
    "        sum = 0 \n",
    "        for ele in li:\n",
    "            sum += ele[j]\n",
    "        if sum > max_sum:\n",
    "            max_col_index = j\n",
    "            max_sum = sum\n",
    "    print(max_sum, max_col_index)\n",
    "    \n"
   ]
  },
  {
   "cell_type": "code",
   "execution_count": 20,
   "metadata": {},
   "outputs": [
    {
     "name": "stdout",
     "output_type": "stream",
     "text": [
      "42 3\n",
      "21 3\n"
     ]
    }
   ],
   "source": [
    "li = [[1,2,3,4],[8,7,6,5],[9,10,11,12]]\n",
    "lar_col_or_row_sum(li)"
   ]
  },
  {
   "cell_type": "code",
   "execution_count": null,
   "metadata": {},
   "outputs": [],
   "source": [
    "'''\n",
    "    In order to print two or more integers in a line separated by a single \n",
    "    space then you may consider printing it with the statement, \n",
    "\n",
    "    print(str(num1) + \" \" + str(num2))\n",
    "    Take Minimum value as MIN_VALUE = -2147483648\n",
    "\n",
    "'''\n",
    "\n",
    "from sys import stdin\n",
    "\n",
    "def lar_col_or_row_sum(li,nRows,nCols):\n",
    "    #Your code goes here\n",
    "    n = nRows\n",
    "    m = nCols\n",
    "\n",
    "    row_max_sum = -1\n",
    "    max_row_index = -1\n",
    "    for i in range(n):\n",
    "        sum = 0 \n",
    "        for j in range(m):\n",
    "            sum += li[i][j]\n",
    "        if sum > row_max_sum:\n",
    "            max_row_index = j\n",
    "            row_max_sum = sum\n",
    "    \n",
    "    col_max_sum = -1\n",
    "    max_col_index = -1\n",
    "    for j in range(m):\n",
    "        sum = 0 \n",
    "        for ele in li:\n",
    "            sum += ele[j]\n",
    "        if sum > col_max_sum:\n",
    "            max_col_index = j\n",
    "            col_max_sum = sum\n",
    "    \n",
    "    if row_max_sum > col_max_sum:\n",
    "        print(\"row\", max_row_index , row_max_sum)\n",
    "        \n",
    "    elif row_max_sum < col_max_sum:\n",
    "        print(\"column\", max_col_index , col_max_sum)\n",
    "    else:\n",
    "        if max_row_index < max_col_index:\n",
    "            print(\"row\", max_row_index  , row_max_sum)\n",
    "           \n",
    "        else:\n",
    "            print(\"col\", max_col_index , col_max_sum)\n",
    "\n",
    "\n",
    "\n",
    "\n",
    "\n",
    "\n",
    "\n",
    "\n",
    "\n",
    "\n",
    "\n",
    "\n",
    "\n",
    "\n",
    "\n",
    "\n",
    "\n",
    "\n",
    "\n",
    "\n",
    "\n",
    "\n",
    "\n",
    "\n",
    "\n",
    "\n",
    "#Taking Input Using Fast I/O\n",
    "def take2DInput() :\n",
    "    li = stdin.readline().rstrip().split(\" \")\n",
    "    nRows = int(li[0])\n",
    "    mCols = int(li[1])\n",
    "    \n",
    "    if nRows == 0 :\n",
    "        return list(), 0, 0\n",
    "    \n",
    "    mat = [list(map(int, input().strip().split(\" \"))) for row in range(nRows)]\n",
    "    return mat, nRows, mCols\n",
    "\n",
    "\n",
    "#main\n",
    "t = int(stdin.readline().rstrip())\n",
    "\n",
    "while t > 0 :\n",
    "\n",
    "    mat, nRows, mCols = take2DInput()\n",
    "    if nRows == 0 and mCols == 0:\n",
    "        print(\"row\", 0, -2147483648)\n",
    "    else:\n",
    "        lar_col_or_row_sum(mat, nRows, mCols)\n",
    "\n",
    "    t -= 1"
   ]
  }
 ],
 "metadata": {
  "interpreter": {
   "hash": "aee8b7b246df8f9039afb4144a1f6fd8d2ca17a180786b69acc140d282b71a49"
  },
  "kernelspec": {
   "display_name": "Python 3.10.1 64-bit",
   "language": "python",
   "name": "python3"
  },
  "language_info": {
   "codemirror_mode": {
    "name": "ipython",
    "version": 3
   },
   "file_extension": ".py",
   "mimetype": "text/x-python",
   "name": "python",
   "nbconvert_exporter": "python",
   "pygments_lexer": "ipython3",
   "version": "3.10.1"
  },
  "orig_nbformat": 4
 },
 "nbformat": 4,
 "nbformat_minor": 2
}
