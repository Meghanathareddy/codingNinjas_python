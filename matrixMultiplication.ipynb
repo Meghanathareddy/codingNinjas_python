{
 "cells": [
  {
   "cell_type": "code",
   "execution_count": 1,
   "metadata": {},
   "outputs": [
    {
     "name": "stdout",
     "output_type": "stream",
     "text": [
      "124\n"
     ]
    }
   ],
   "source": [
    "import sys\n",
    "def mcm(p,i,j):\n",
    "\n",
    "    if i == j:\n",
    "        return 0\n",
    "    min_value = sys.maxsize\n",
    "    for k in range(i, j):\n",
    "        ans1 = mcm(p,i,k)\n",
    "        ans2 = mcm(p,k+1, j)\n",
    "\n",
    "        mCost = p[i-1]*p[k]*p[j]\n",
    "\n",
    "        curr_value = ans1+ans2+mCost\n",
    "        min_value = min(min_value,curr_value)\n",
    "\n",
    "    return min_value\n",
    "\n",
    "p = [2,3,4,5,6]\n",
    "n = len(p) - 1\n",
    "ans = mcm(p,1,n)\n",
    "print(ans)\n"
   ]
  },
  {
   "cell_type": "code",
   "execution_count": 5,
   "metadata": {},
   "outputs": [
    {
     "name": "stdout",
     "output_type": "stream",
     "text": [
      "124\n"
     ]
    }
   ],
   "source": [
    "import sys\n",
    "def mcm(p,i,j,dp ):\n",
    "\n",
    "    if i == j:\n",
    "        return 0\n",
    "    min_value = sys.maxsize\n",
    "    for k in range(i, j):\n",
    "        if dp[i][k] == -1:\n",
    "            ans1 = mcm(p,i,k,dp)\n",
    "            dp[i][k] = ans1\n",
    "        else:\n",
    "            ans1 = dp[i][k]\n",
    "        \n",
    "        if dp[k+1][j] == -1:\n",
    "            ans2 = mcm(p,k+1, j,dp)\n",
    "            dp[k+1][j] = ans2\n",
    "        else:\n",
    "            ans2 = dp[k+1][j]\n",
    "\n",
    "        mCost = p[i-1]*p[k]*p[j]\n",
    "\n",
    "        curr_value = ans1+ans2+mCost\n",
    "        min_value = min(min_value,curr_value)\n",
    "\n",
    "    return min_value\n",
    "\n",
    "p = [2,3,4,5,6]\n",
    "n = len(p) - 1\n",
    "dp = [[-1 for j in range(n+1)]for i in range(n+1)]\n",
    "ans = mcm(p,1,n, dp)\n",
    "print(ans)"
   ]
  },
  {
   "cell_type": "code",
   "execution_count": null,
   "metadata": {},
   "outputs": [],
   "source": []
  }
 ],
 "metadata": {
  "interpreter": {
   "hash": "aee8b7b246df8f9039afb4144a1f6fd8d2ca17a180786b69acc140d282b71a49"
  },
  "kernelspec": {
   "display_name": "Python 3.10.1 64-bit",
   "language": "python",
   "name": "python3"
  },
  "language_info": {
   "codemirror_mode": {
    "name": "ipython",
    "version": 3
   },
   "file_extension": ".py",
   "mimetype": "text/x-python",
   "name": "python",
   "nbconvert_exporter": "python",
   "pygments_lexer": "ipython3",
   "version": "3.10.1"
  },
  "orig_nbformat": 4
 },
 "nbformat": 4,
 "nbformat_minor": 2
}
