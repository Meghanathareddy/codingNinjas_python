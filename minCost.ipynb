{
 "cells": [
  {
   "cell_type": "code",
   "execution_count": 1,
   "metadata": {},
   "outputs": [
    {
     "name": "stdout",
     "output_type": "stream",
     "text": [
      "30\n"
     ]
    }
   ],
   "source": [
    "import sys\n",
    "def minCost(cost, i,j,n,m):\n",
    "\n",
    "    #special case\n",
    "    if i == n -1 and j == m-1:\n",
    "        return cost[i][j]\n",
    "    #Base case\n",
    "    if i >= n or j >= m:\n",
    "        return sys.maxsize\n",
    "\n",
    "    ans1 = minCost(cost, i, j+1, n, m)\n",
    "    ans2 = minCost(cost, i + 1,j, n, m )\n",
    "    ans3 = minCost(cost, i + 1, j + 1, n , m)\n",
    "\n",
    "    ans = cost[i][j] + min(ans1, ans2, ans3)\n",
    "\n",
    "    return ans\n",
    "\n",
    "cost = [[1,5,11],[8,13,12],[2,3,7],[15,16,18]]\n",
    "ans = minCost(cost, 0,0, 4,3)\n",
    "print(ans)\n"
   ]
  },
  {
   "cell_type": "code",
   "execution_count": 3,
   "metadata": {},
   "outputs": [
    {
     "name": "stdout",
     "output_type": "stream",
     "text": [
      "30\n"
     ]
    }
   ],
   "source": [
    "#Memoization\n",
    "import sys\n",
    "def minCost(cost, i,j,n,m,dp):\n",
    "\n",
    "    #special case\n",
    "    if i == n -1 and j == m-1:\n",
    "        return cost[i][j]\n",
    "    #Base case\n",
    "    if i >= n or j >= m:\n",
    "        return sys.maxsize\n",
    "    \n",
    "    if dp[i][j+1] == sys.maxsize:\n",
    "        ans1 = minCost(cost, i, j+1, n, m, dp)\n",
    "        dp[i][j+1] = ans1\n",
    "    else:\n",
    "        ans1 = dp[i][j+1]\n",
    "\n",
    "    if dp[i + 1][j] == sys.maxsize:\n",
    "        ans2 = minCost(cost, i + 1,j, n, m, dp)\n",
    "        dp[i+1][j] = ans2\n",
    "    else:\n",
    "        ans2 = dp[i+1][j]\n",
    "\n",
    "    if dp[i+1][j+1] == sys.maxsize:\n",
    "        ans3 = minCost(cost, i + 1, j + 1, n , m, dp)\n",
    "        dp[i+1][j+1] = ans3\n",
    "    else:\n",
    "        ans3 = dp[i+1][j+1]\n",
    "\n",
    "    ans = cost[i][j] + min(ans1, ans2, ans3)\n",
    "\n",
    "    return ans\n",
    "\n",
    "n = int(input())\n",
    "m = int(input())\n",
    "cost = [[1,5,11],[8,13,12],[2,3,7],[15,16,18]]\n",
    "dp = [[ sys.maxsize for j in  range(m + 1)] for i in range(n+1)]\n",
    "ans = minCost(cost, 0,0, 4,3, dp)\n",
    "print(ans)\n"
   ]
  },
  {
   "cell_type": "code",
   "execution_count": 4,
   "metadata": {},
   "outputs": [
    {
     "name": "stdout",
     "output_type": "stream",
     "text": [
      "30\n"
     ]
    }
   ],
   "source": [
    "#minCostIterative\n",
    "def minCostIterative(cost, n, m):\n",
    "\n",
    "    dp = [[sys.maxsize for j in range(m+1)]for i in range(n+1)]\n",
    "\n",
    "    for i in range(n-1, -1, -1):\n",
    "        for j in range(m-1, -1, -1):\n",
    "            if i == n - 1 and j == m-1:\n",
    "                dp[i][j] = cost[i][j]\n",
    "            else:\n",
    "                ans1 = dp[i+1][j]\n",
    "                ans2 = dp[i][j+1]\n",
    "                ans3 = dp[i+1][j+1]\n",
    "                dp[i][j] = cost[i][j]+min(ans1,ans2,ans3) \n",
    "    return dp[0][0]\n",
    "\n",
    "n = int(input())\n",
    "m = int(input())\n",
    "cost = [[1,5,11],[8,13,12],[2,3,7],[15,16,18]]\n",
    "dp = [[ sys.maxsize for j in  range(m + 1)] for i in range(n+1)]\n",
    "ans = minCost(cost, 0,0, 4,3, dp)\n",
    "print(ans)"
   ]
  },
  {
   "cell_type": "code",
   "execution_count": 5,
   "metadata": {},
   "outputs": [
    {
     "name": "stdout",
     "output_type": "stream",
     "text": [
      "30\n"
     ]
    }
   ],
   "source": [
    "import sys\n",
    "\n",
    "def minCostIterativeTD(cost, n, m):\n",
    "\n",
    "    dp = [ [sys.maxsize for j in range(m+1)] for i in range(n+1)]\n",
    "    for i in range(1, n+1):\n",
    "        for j in range(1, m+1):\n",
    "            if i == 1 and j == 1:\n",
    "                dp[i][j] == cost[0][0]\n",
    "            else:\n",
    "                ans1 = dp[i-1][j]\n",
    "                ans2 = dp[i][j-1]\n",
    "                ans3 = dp[i-1][j-1]\n",
    "                dp[i][j] = cost[i-1][j-1] + min(ans1, ans2, ans3)\n",
    "    return dp[n][m]\n",
    "\n",
    "n = int(input())\n",
    "m = int(input())\n",
    "cost = [[1,5,11],[8,13,12],[2,3,7],[15,16,18]]\n",
    "dp = [[ sys.maxsize for j in  range(m + 1)] for i in range(n+1)]\n",
    "ans = minCost(cost, 0,0, 4,3, dp)\n",
    "print(ans)"
   ]
  },
  {
   "cell_type": "markdown",
   "metadata": {},
   "source": []
  }
 ],
 "metadata": {
  "interpreter": {
   "hash": "aee8b7b246df8f9039afb4144a1f6fd8d2ca17a180786b69acc140d282b71a49"
  },
  "kernelspec": {
   "display_name": "Python 3.10.1 64-bit",
   "language": "python",
   "name": "python3"
  },
  "language_info": {
   "codemirror_mode": {
    "name": "ipython",
    "version": 3
   },
   "file_extension": ".py",
   "mimetype": "text/x-python",
   "name": "python",
   "nbconvert_exporter": "python",
   "pygments_lexer": "ipython3",
   "version": "3.10.1"
  },
  "orig_nbformat": 4
 },
 "nbformat": 4,
 "nbformat_minor": 2
}
