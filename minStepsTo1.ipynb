{
 "cells": [
  {
   "cell_type": "code",
   "execution_count": 1,
   "metadata": {},
   "outputs": [
    {
     "name": "stdout",
     "output_type": "stream",
     "text": [
      "4\n"
     ]
    }
   ],
   "source": [
    "import sys\n",
    "def minStepsTo1(n):\n",
    "\n",
    "    if n == 1:\n",
    "        return 0\n",
    "\n",
    "    ans1 = sys.maxsize\n",
    "    if n % 3 == 0:\n",
    "        ans1 = minStepsTo1(n//3)\n",
    "\n",
    "    ans2 = sys.maxsize\n",
    "    if n%2 == 0:\n",
    "        ans2 = minStepsTo1(n//2)\n",
    "    ans3 = minStepsTo1(n-1)\n",
    "    ans = 1 + min(ans1, ans2, ans3)\n",
    "    return ans\n",
    "n = int(input())\n",
    "ans = minStepsTo1(n)\n",
    "print(ans)\n",
    "\n"
   ]
  },
  {
   "cell_type": "code",
   "execution_count": 4,
   "metadata": {},
   "outputs": [
    {
     "name": "stdout",
     "output_type": "stream",
     "text": [
      "4\n"
     ]
    }
   ],
   "source": [
    "import sys\n",
    "def minStepsTo1(n,dp):\n",
    "\n",
    "    if n == 1:\n",
    "        return 0\n",
    "\n",
    "    ans1 = sys.maxsize\n",
    "    if n % 3 == 0:\n",
    "        if dp[n//3] == -1:\n",
    "            ans1 = minStepsTo1(n//3,dp)\n",
    "            dp[n//3] = ans1\n",
    "        else:\n",
    "            ans1 = dp[n//3]\n",
    "    \n",
    "    ans2 = sys.maxsize\n",
    "    if n%2 == 0:\n",
    "        if dp[n//2] == -1:\n",
    "            ans2 = minStepsTo1(n//2,dp)\n",
    "            dp[n//2] = ans2\n",
    "        else:\n",
    "            ans2 = dp[n//2]\n",
    "    if dp[n-1] == -1:\n",
    "        ans3 = minStepsTo1(n-1,dp)\n",
    "        dp[n - 1] = ans3\n",
    "    else:\n",
    "        ans3 = dp[n - 1]\n",
    "\n",
    "    ans = 1 + min(ans1, ans2, ans3)\n",
    "    return ans\n",
    "n = int(input())\n",
    "dp = [-1 for i in range(n + 1)]\n",
    "ans = minStepsTo1(n, dp)\n",
    "print(ans)"
   ]
  },
  {
   "cell_type": "code",
   "execution_count": 14,
   "metadata": {},
   "outputs": [],
   "source": [
    "from sys import stdin\n",
    "from sys import maxsize as MAX_VALUE\n",
    "def countMinStepsToOne(n):\n",
    "\n",
    "    if n == 1:\n",
    "        return 0\n",
    "    minSteps = [0]*(n+1)\n",
    "    minSteps[1] = 0\n",
    "    for currStep in range(2, (n+1)):\n",
    "        subtractOne = minSteps[currStep-1]\n",
    "        divideByTwo = MAX_VALUE\n",
    "        divideByThree = MAX_VALUE\n",
    "        if currStep % 2 == 0:\n",
    "            divideByTwo = minSteps[currStep // 2]\n",
    "        if currStep % 3 == 0:\n",
    "            divideByThree = minSteps[currStep // 3]\n",
    "        minSteps[currStep ] = 1 + min(subtractOne, divideByTwo, divideByThree)\n",
    "    return minSteps[n]"
   ]
  },
  {
   "cell_type": "code",
   "execution_count": 15,
   "metadata": {},
   "outputs": [
    {
     "name": "stdout",
     "output_type": "stream",
     "text": [
      "2\n"
     ]
    }
   ],
   "source": [
    "n = int(input())\n",
    "ans = countMinStepsToOne(n)\n",
    "print(ans)"
   ]
  },
  {
   "cell_type": "code",
   "execution_count": null,
   "metadata": {},
   "outputs": [],
   "source": []
  }
 ],
 "metadata": {
  "interpreter": {
   "hash": "aee8b7b246df8f9039afb4144a1f6fd8d2ca17a180786b69acc140d282b71a49"
  },
  "kernelspec": {
   "display_name": "Python 3.10.1 64-bit",
   "language": "python",
   "name": "python3"
  },
  "language_info": {
   "codemirror_mode": {
    "name": "ipython",
    "version": 3
   },
   "file_extension": ".py",
   "mimetype": "text/x-python",
   "name": "python",
   "nbconvert_exporter": "python",
   "pygments_lexer": "ipython3",
   "version": "3.10.1"
  },
  "orig_nbformat": 4
 },
 "nbformat": 4,
 "nbformat_minor": 2
}
