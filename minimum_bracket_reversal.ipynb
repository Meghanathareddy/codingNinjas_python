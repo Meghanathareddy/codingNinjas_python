{
 "cells": [
  {
   "cell_type": "code",
   "execution_count": 13,
   "metadata": {},
   "outputs": [],
   "source": [
    "from sys import stdin\n",
    "def countBracketReversals(inputString):\n",
    "\n",
    "    length = len(inputString)\n",
    "\n",
    "    if length == 0:\n",
    "        return 0\n",
    "    \n",
    "    if length % 2 != 0:\n",
    "        return -1  # only even number of brackets be balanced.\n",
    "    \n",
    "    stack = list()\n",
    "\n",
    "    for i in range(length):\n",
    "        currentChar = inputString[i]\n",
    "\n",
    "        if currentChar == '{':\n",
    "            stack.append(currentChar)\n",
    "        else:\n",
    "\n",
    "            #pop if there is a balanced pair\n",
    "\n",
    "            if (not isEmpty(stack)) and (top(stack) == '{'):\n",
    "                stack.pop()\n",
    "            else:\n",
    "                stack.append(currentChar)\n",
    "    count = 0\n",
    "\n",
    "    #only unbalanced brackets are there in stack now\n",
    "    while not isEmpty(stack):\n",
    "        char1 = stack.pop()\n",
    "        char2 = stack.pop()\n",
    "\n",
    "        '''\n",
    "            when char1 = } and char2 = {, then we need to reverse both of them\n",
    "            so count will increases by 2\n",
    "        '''\n",
    "        if char1 != char2:\n",
    "            count += 2\n",
    "        else:\n",
    "            count += 1\n",
    "    return count\n",
    "\n",
    "\n",
    "\n",
    "\n"
   ]
  },
  {
   "cell_type": "code",
   "execution_count": 6,
   "metadata": {},
   "outputs": [],
   "source": [
    "#Take a list as a stack and returns whetherthe stack is empty or not\n",
    "def isEmpty(stack):\n",
    "    return len(stack) == 0\n"
   ]
  },
  {
   "cell_type": "code",
   "execution_count": 7,
   "metadata": {},
   "outputs": [],
   "source": [
    "#Take a list as a stack and returns the element at the top\n",
    "def top(stack):\n",
    "    return stack[len(stack) - 1]"
   ]
  },
  {
   "cell_type": "code",
   "execution_count": 14,
   "metadata": {},
   "outputs": [
    {
     "name": "stdout",
     "output_type": "stream",
     "text": [
      "1\n"
     ]
    }
   ],
   "source": [
    "print(countBracketReversals(input()))"
   ]
  },
  {
   "cell_type": "code",
   "execution_count": null,
   "metadata": {},
   "outputs": [],
   "source": []
  }
 ],
 "metadata": {
  "interpreter": {
   "hash": "aee8b7b246df8f9039afb4144a1f6fd8d2ca17a180786b69acc140d282b71a49"
  },
  "kernelspec": {
   "display_name": "Python 3.10.1 64-bit",
   "language": "python",
   "name": "python3"
  },
  "language_info": {
   "codemirror_mode": {
    "name": "ipython",
    "version": 3
   },
   "file_extension": ".py",
   "mimetype": "text/x-python",
   "name": "python",
   "nbconvert_exporter": "python",
   "pygments_lexer": "ipython3",
   "version": "3.10.1"
  },
  "orig_nbformat": 4
 },
 "nbformat": 4,
 "nbformat_minor": 2
}
