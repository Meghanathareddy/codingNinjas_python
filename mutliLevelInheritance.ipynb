{
 "cells": [
  {
   "cell_type": "code",
   "execution_count": 5,
   "metadata": {},
   "outputs": [],
   "source": [
    "#Parent class\n",
    "class Vehicle():\n",
    "    def __init__(self, make, model, fuel):\n",
    "        #Public Attribute\n",
    "        self.make = make\n",
    "        self.model = model\n",
    "        self.fuel = fuel\n",
    "#Child Class\n",
    "class Car(Vehicle):\n",
    "    def __init__(self,make,model,fuel,air_conditioning, sunroof):\n",
    "        super(Car,self).__init__(make,model,fuel)\n",
    "        \n",
    "        self._air_conditioning = air_conditioning\n",
    "        self._sunroof = sunroof\n",
    "class ElectricVehicle(Car):\n",
    "    def __init__(self,make,model,fuel,air_conditioning, sunroof,distance):\n",
    "        super(ElectricVehicle,self).__init__(make,model,fuel,air_conditioning,sunroof)\n",
    "        self.distance = distance\n",
    "    "
   ]
  },
  {
   "cell_type": "code",
   "execution_count": 6,
   "metadata": {},
   "outputs": [],
   "source": [
    "myObj = ElectricVehicle(\"telsa\",2019,\"Electric\",True,True,500)"
   ]
  },
  {
   "cell_type": "code",
   "execution_count": 7,
   "metadata": {},
   "outputs": [
    {
     "data": {
      "text/plain": [
       "{'make': 'telsa',\n",
       " 'model': 2019,\n",
       " 'fuel': 'Electric',\n",
       " '_air_conditioning': True,\n",
       " '_sunroof': True,\n",
       " 'distance': 500}"
      ]
     },
     "execution_count": 7,
     "metadata": {},
     "output_type": "execute_result"
    }
   ],
   "source": [
    "myObj.__dict__"
   ]
  },
  {
   "cell_type": "code",
   "execution_count": null,
   "metadata": {},
   "outputs": [],
   "source": []
  }
 ],
 "metadata": {
  "interpreter": {
   "hash": "aee8b7b246df8f9039afb4144a1f6fd8d2ca17a180786b69acc140d282b71a49"
  },
  "kernelspec": {
   "display_name": "Python 3.10.1 64-bit",
   "language": "python",
   "name": "python3"
  },
  "language_info": {
   "codemirror_mode": {
    "name": "ipython",
    "version": 3
   },
   "file_extension": ".py",
   "mimetype": "text/x-python",
   "name": "python",
   "nbconvert_exporter": "python",
   "pygments_lexer": "ipython3",
   "version": "3.10.1"
  },
  "orig_nbformat": 4
 },
 "nbformat": 4,
 "nbformat_minor": 2
}
