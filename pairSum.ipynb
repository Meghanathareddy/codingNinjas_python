{
 "cells": [
  {
   "cell_type": "code",
   "execution_count": 9,
   "metadata": {},
   "outputs": [
    {
     "name": "stdout",
     "output_type": "stream",
     "text": [
      "(0, 6)\n",
      "(0, 0)\n",
      "(0, 0)\n",
      "(6, 0)\n",
      "(6, 0)\n",
      "(0, 0)\n"
     ]
    }
   ],
   "source": [
    "import itertools\n",
    "list = [0,6,0,0]\n",
    "uniquelist = list\n",
    "targetsum = 5\n",
    "for n in itertools.combinations(uniquelist, 2):\n",
    "    print(n)\n",
    "    if n[0] + n[1] == targetsum:\n",
    "        print(str(n[0]) + \" + \" + str(n[1]))"
   ]
  },
  {
   "cell_type": "code",
   "execution_count": 4,
   "metadata": {},
   "outputs": [],
   "source": [
    "n = itertools.combinations(uniquelist, 2)"
   ]
  },
  {
   "cell_type": "code",
   "execution_count": 5,
   "metadata": {},
   "outputs": [
    {
     "ename": "TypeError",
     "evalue": "'itertools.combinations' object is not subscriptable",
     "output_type": "error",
     "traceback": [
      "\u001b[0;31m---------------------------------------------------------------------------\u001b[0m",
      "\u001b[0;31mTypeError\u001b[0m                                 Traceback (most recent call last)",
      "Cell \u001b[0;32mIn [5], line 1\u001b[0m\n\u001b[0;32m----> 1\u001b[0m \u001b[43mn\u001b[49m\u001b[43m[\u001b[49m\u001b[38;5;241;43m0\u001b[39;49m\u001b[43m]\u001b[49m\n",
      "\u001b[0;31mTypeError\u001b[0m: 'itertools.combinations' object is not subscriptable"
     ]
    }
   ],
   "source": []
  },
  {
   "cell_type": "code",
   "execution_count": 7,
   "metadata": {},
   "outputs": [],
   "source": [
    "def pairSum(arr, n, num) :\n",
    "    arr.sort()\n",
    "    startIndex = 0\n",
    "    endIndex = n - 1\n",
    "    numPair = 0\n",
    "    while(startIndex < endIndex):\n",
    "        if(arr[startIndex] + arr[endIndex] < num):\n",
    "            startIndex += 1\n",
    "        elif(arr[startIndex] + arr[endIndex] > num):\n",
    "            endIndex -= 1\n",
    "        else:\n",
    "            startElement = arr[startIndex]\n",
    "            endElement = arr[endIndex]\n",
    "            if(startElement == endElement):\n",
    "                numPair = (endIndex - startIndex + 1)*(endIndex - startIndex + 2) // 2 - (endIndex - startIndex + 1)\n",
    "                return numPair\n",
    "            tempstartIndex = startIndex + 1\n",
    "            while(tempstartIndex <= endIndex and arr[tempstartIndex] == startElement):\n",
    "                tempstartIndex += 1\n",
    "            tempendIndex = endIndex - 1\n",
    "            while(tempendIndex >= tempstartIndex and arr[tempendIndex] == endElement):\n",
    "                tempendIndex -= 1\n",
    "            numPair += (tempstartIndex - startIndex) * (endIndex - tempendIndex)\n",
    "            startIndex = tempstartIndex\n",
    "            endIndex = tempendIndex\n",
    "    return numPair\n",
    "\n",
    "\n",
    "\n",
    "\n",
    "\n",
    "\n",
    "\n",
    "\n",
    "from sys import stdin\n",
    "def pairSum(arr,num,startIndex,endIndex) :\n",
    "    \n",
    "    numPair = 0\n",
    "\n",
    "    while startIndex < endIndex :\n",
    "\n",
    "        if arr[startIndex] + arr[endIndex] < num :\n",
    "            startIndex += 1\n",
    "\n",
    "        elif arr[startIndex] + arr[endIndex] > num :\n",
    "            endIndex -= 1\n",
    "\n",
    "        else :\n",
    "\n",
    "            elementAtStart = arr[startIndex]\n",
    "            elementAtEnd = arr[endIndex]\n",
    "\n",
    "            if elementAtStart == elementAtEnd :\n",
    "                totalElementsFromStartToEnd = (endIndex - startIndex) + 1\n",
    "                numPair += (endIndex - startIndex) * (endIndex - startIndex + 1) // 2\n",
    "\n",
    "                return numPair\n",
    "\n",
    "            tempStartIndex = startIndex + 1\n",
    "            tempEndIndex = endIndex - 1\n",
    "\n",
    "            while (tempStartIndex <= tempEndIndex) and (arr[tempStartIndex] == elementAtStart) :\n",
    "                tempStartIndex += 1\n",
    "\n",
    "            while (tempEndIndex >= tempStartIndex) and (arr[tempEndIndex] == elementAtEnd) :\n",
    "                tempEndIndex -= 1\n",
    "\n",
    "            totalElementsFromStart = (tempStartIndex - startIndex)\n",
    "            totalElementsFromEnd = (endIndex - tempEndIndex)\n",
    "\n",
    "            numPair += ((tempStartIndex - startIndex) * (endIndex - tempEndIndex))\n",
    "\n",
    "            startIndex = tempStartIndex\n",
    "            endIndex = tempEndIndex\n",
    "\n",
    "\n",
    "    return numPair\n",
    "def tripletSum(arr,n,num):\n",
    "    numPair = 0\n",
    "    arr.sort()\n",
    "    for i in range(n):\n",
    "        numPair += pairSum(arr,num-arr[i],i+1,n-1)\n",
    "    return numPair \n"
   ]
  },
  {
   "cell_type": "code",
   "execution_count": null,
   "metadata": {},
   "outputs": [],
   "source": []
  }
 ],
 "metadata": {
  "interpreter": {
   "hash": "aee8b7b246df8f9039afb4144a1f6fd8d2ca17a180786b69acc140d282b71a49"
  },
  "kernelspec": {
   "display_name": "Python 3.10.1 64-bit",
   "language": "python",
   "name": "python3"
  },
  "language_info": {
   "codemirror_mode": {
    "name": "ipython",
    "version": 3
   },
   "file_extension": ".py",
   "mimetype": "text/x-python",
   "name": "python",
   "nbconvert_exporter": "python",
   "pygments_lexer": "ipython3",
   "version": "3.10.1"
  },
  "orig_nbformat": 4
 },
 "nbformat": 4,
 "nbformat_minor": 2
}
