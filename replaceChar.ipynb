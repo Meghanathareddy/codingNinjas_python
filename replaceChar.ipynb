{
 "cells": [
  {
   "cell_type": "code",
   "execution_count": 1,
   "metadata": {},
   "outputs": [],
   "source": [
    "def replaceChar(s,a,b):\n",
    "    if len(s) == 0:\n",
    "        return s\n",
    "    smallOutput = replaceChar(s[1:],a,b)\n",
    "    if s[0] == a:\n",
    "        return b + smallOutput\n",
    "    else:\n",
    "        return s[0] + smallOutput"
   ]
  },
  {
   "cell_type": "code",
   "execution_count": 2,
   "metadata": {},
   "outputs": [
    {
     "data": {
      "text/plain": [
       "'xsfxsxxgth'"
      ]
     },
     "execution_count": 2,
     "metadata": {},
     "output_type": "execute_result"
    }
   ],
   "source": [
    "replaceChar(\"dsfdsddgth\",'d','x')"
   ]
  },
  {
   "cell_type": "code",
   "execution_count": 4,
   "metadata": {},
   "outputs": [
    {
     "name": "stdout",
     "output_type": "stream",
     "text": [
      "pp\n"
     ]
    }
   ],
   "source": [
    "# Problem: Remove x from string\n",
    "def removeX(string): \n",
    "    if len(string) == 0:\n",
    "        return string\n",
    "    smallOutput = removeX(string[1:])\n",
    "    if string[0] == 'x':\n",
    "        return ''+smallOutput\n",
    "    else:\n",
    "        return string[0] + smallOutput\n",
    "\n",
    "# Main\n",
    "string = input()\n",
    "print(removeX(string))"
   ]
  },
  {
   "cell_type": "code",
   "execution_count": null,
   "metadata": {},
   "outputs": [],
   "source": []
  }
 ],
 "metadata": {
  "interpreter": {
   "hash": "aee8b7b246df8f9039afb4144a1f6fd8d2ca17a180786b69acc140d282b71a49"
  },
  "kernelspec": {
   "display_name": "Python 3.10.1 64-bit",
   "language": "python",
   "name": "python3"
  },
  "language_info": {
   "codemirror_mode": {
    "name": "ipython",
    "version": 3
   },
   "file_extension": ".py",
   "mimetype": "text/x-python",
   "name": "python",
   "nbconvert_exporter": "python",
   "pygments_lexer": "ipython3",
   "version": "3.10.1"
  },
  "orig_nbformat": 4
 },
 "nbformat": 4,
 "nbformat_minor": 2
}
