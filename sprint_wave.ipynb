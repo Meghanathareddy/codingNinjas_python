{
 "cells": [
  {
   "cell_type": "code",
   "execution_count": 6,
   "metadata": {},
   "outputs": [],
   "source": [
    "def sprint_wave(arr,i,j,m,n):\n",
    "\n",
    "    #if i or j lies outside the matrix\n",
    "    if (i >= m or j >= n):\n",
    "        return\n",
    "    \n",
    "    #print First Row\n",
    "    for p in range(i, n):\n",
    "        print(arr[i][p], end = \" \")\n",
    "    \n",
    "    #for Last column\n",
    "    for p in range(i + 1, m):\n",
    "        print(arr[p][n-1], end = \" \")\n",
    "    \n",
    "    #Print Last row, if Last and First Row are not same\n",
    "    if ((m-1) != i):\n",
    "        for p in range(n-2, j-1 ,-1):\n",
    "            print(arr[m-1][p], end = \" \")\n",
    "    #Print First row, if Last and First col are not same\n",
    "    if ((n-1) != j):\n",
    "        for p in range(m-2, i ,-1):\n",
    "            print(arr[p][j], end = \" \")\n",
    "            \n",
    "    sprint_wave(arr,i + 1,j + 1,m - 1,n -1)\n",
    "    \n",
    "\n",
    "    "
   ]
  },
  {
   "cell_type": "code",
   "execution_count": 7,
   "metadata": {},
   "outputs": [
    {
     "name": "stdout",
     "output_type": "stream",
     "text": [
      "1 2 3 4 8 12 16 15 14 13 9 5 6 7 11 10 "
     ]
    }
   ],
   "source": [
    "arr = [[1, 2, 3, 4],\n",
    "           [5, 6, 7, 8],\n",
    "           [9, 10, 11, 12],\n",
    "           [13, 14, 15, 16]]\n",
    "sprint_wave(arr,0,0,4,4)"
   ]
  },
  {
   "cell_type": "code",
   "execution_count": null,
   "metadata": {},
   "outputs": [],
   "source": []
  }
 ],
 "metadata": {
  "interpreter": {
   "hash": "aee8b7b246df8f9039afb4144a1f6fd8d2ca17a180786b69acc140d282b71a49"
  },
  "kernelspec": {
   "display_name": "Python 3.10.1 64-bit",
   "language": "python",
   "name": "python3"
  },
  "language_info": {
   "codemirror_mode": {
    "name": "ipython",
    "version": 3
   },
   "file_extension": ".py",
   "mimetype": "text/x-python",
   "name": "python",
   "nbconvert_exporter": "python",
   "pygments_lexer": "ipython3",
   "version": "3.10.1"
  },
  "orig_nbformat": 4
 },
 "nbformat": 4,
 "nbformat_minor": 2
}
